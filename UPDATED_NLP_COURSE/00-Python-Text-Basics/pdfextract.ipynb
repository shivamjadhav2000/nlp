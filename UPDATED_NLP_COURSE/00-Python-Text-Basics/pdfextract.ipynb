{
 "cells": [
  {
   "cell_type": "code",
   "execution_count": 1,
   "id": "10e57b19",
   "metadata": {},
   "outputs": [],
   "source": [
    "import PyPDF2\n",
    "EAadhaar_2832360710607020220112111035_04022022161730.pdf"
   ]
  },
  {
   "cell_type": "code",
   "execution_count": 26,
   "id": "0633387c",
   "metadata": {},
   "outputs": [
    {
     "name": "stdout",
     "output_type": "stream",
     "text": [
      "5\n"
     ]
    },
    {
     "data": {
      "text/plain": [
       "[\"Declaration of Independence\\nIN CONGRESS, July 4, 1776.\\n \\nThe unanimous Declaration of the thirteen united States of America,\\n \\nWhen in the Course of human events, it becomes necessary for one people to dissolve the\\n\\npolitical bands which have connected them with another, and to assume among the powers of the\\n\\nearth, the separate and equal station to which the Laws of Nature and of Nature's God entitle\\n\\nthem, a decent respect to the opinions of mankind requires that they should declare the causes\\n\\nwhich impel them to the separation. \\n\\nWe hold these truths to be self-evident, that all men are created equal, that they are endowed by\\n\\ntheir Creator with certain unalienable Rights, that among these are Life, Liberty and the pursuit\\nof Happiness.Š \\x14That to secure these rights, Governments are instituted among Men, deriving\\n\\ntheir just powers from the consent of the governed,Š  \\x14That whenever any Form of Government\\nbecomes destructive of these ends, it is the Right of the People to alter or to abolish it, and to\\ninstitute new Government, laying its foundation on such principles and organizing its powers in\\nsuch form, as to them shall seem most likely to effect their Safety and Happiness. Prudence,\\n\\nindeed, will dictate that Governments long established should not be changed for light and\\n\\ntransient causes; and accordingly all experience hath shewn, that mankind are more disposed to\\nsuffer, while evils are sufferable, than to right themselves by abolishing the forms to which they\\n\\nare accustomed. But when a long train of abuses and usurpations, pursuing invariably the same\\nObj ect  evi nces  a des ign t o red uce t hem  und er ab sol ute  Des pot ism , it  is t hei r ri ght,  it i s th eir  dut y,\\nto throw off such Government, and to provide new Guards for their future securit\\ny\\n.Š \\x14Such has\\nbeen the patient sufferance of these Colonies; and such is now the necessity which constrains\\n\\nthem to alter their former Systems of Government. The history of the present King of Great\\n\\nBritain is a history of repeated injuries and usurpations, all having in direct object the\\nestablishment of an absolute Tyranny over these States. To prove this, let Facts be submitted to a\\ncandid world. \\nHe has refused his Assent to Laws, the most wholesome and necessary for the\\npublic good.\\n\\nHe has forbidden his Governors to pass Laws of immediate and pressing\\n\\nimportance, unless suspended in their operation till his Assent should be obtained;\\n\\nand when so suspended, he has utterly neglected to attend to them.\\n\\nHe has refused to pass other Laws for the accommodation of large districts of\\npeople, unless those people would relinquish the right of Representation in the\\n\\nLegislature, a right inestimable to them and formidable to tyrants only. \\n\\nHe has called together legislative bodies at places unusual, uncomfortable, and distant\\n\\nfrom the depository of their public Records, for the sole purpose of fatiguing them into\\ncompliance with his measures.\\n\",\n",
       " 'He has dissolved Re\\npresentative Ho\\nuses repeatedly\\n, for opposing wit\\nh manly\\nfirmness his invasions on the rights of the people.\\nHe has refused for a long time, after such dissolutions, to cause others to be\\nelected; whereby the Leg\\nislative powers, incapable of Annihilation, have returned\\nto the People at lar\\nge for their exe\\nrcise; the State r\\nemaining in the me\\nan time\\nexposed to all the dangers of invasion from without, and convulsions within.\\nHe has endeavou\\nred to prevent the\\n population of these\\n States; for that pur\\npose\\nobstructing the L\\naws for Natural\\nization of Foreig\\nners; refusing\\n to pass others to\\nencourage their migrations hither, and raising the conditions of new\\nAppropriations of\\n Lands.\\nHe has obstructed the Administration of Justice, by refusing his Assent to Laws\\nfor establishing\\n Judiciary pow\\ners.\\nHe has made Judge\\ns dependent on his Wil\\nl alone, for the te\\nnure of their off\\nices,\\nand the amount and\\n payment of t\\nheir salaries.\\nHe has erected\\n a multitude of New\\n Offices, and se\\nnt hither swarms of\\n Officers to\\nharrass our people, and eat out their substance.\\nHe has kept among us, in times of peace, Standing Armies without the Consent of\\nour legislature\\ns.\\nHe has affected to render the Military independent of a\\nnd superior to the Civil power.\\nHe has combined with others to subject us to a jurisdiction foreign to our\\nconstitution, and unacknowledged by our laws; giving his Assent to their Acts of\\npretended Legislation:\\nFor Quartering\\n large bodies of\\n armed troops amon\\ng us:\\nFor protecting them, by a mock Trial, from punishment for any\\n Murders which\\nthey should c\\nommit on the Inha\\nbitants of these Sta\\ntes:\\nFor cutting off our Trade with all parts of the world:\\nFor imposing Taxe\\ns on us without our Con\\nsent: For deprivi\\nng us in many\\n cases,\\nof t\\nhe b\\nenef\\nits\\n of T\\nria\\nl by J\\nury:\\nFor transporting us beyond Seas to be tried for pretended of\\nfences\\nFor abolishing the free System of English L\\naws in a neighbouring Province,\\nestablishing therein an Arbitrary government, and e\\nnlarging its Boundaries so as\\n',\n",
       " 'to render it at onc\\ne an example and fi\\nt instrument for intr\\noducing the same\\nabsolute rule into\\n these Colonies:\\nFor taking away our Charters, abolishing our most valuable L\\naws, and altering\\nfundamentally\\n the Forms of our G\\novernments:\\nFor suspending\\n our own Leg\\nislatures, and de\\nclaring themse\\nlves invested with\\npower to legislate for us in all cases whatsoever.\\nHe has abdicated Government here, by declar\\ning us out of his Protection and\\nwaging War ag\\nainst us.\\nHe has plundered our seas, ravaged our Coasts, burnt our towns, and destroy\\ned the\\nlives of our people.\\nHe is at this time transporting large Armies of foreign Mercenaries to compleat\\nthe works of death, desolation and tyranny\\n, already begun with circumstances of\\nCruelty & pe\\nrfidy scar\\ncely para\\nlleled in the most ba\\nrbarous ages,\\n and totally\\nunworthy of the Head of a civilized nation.\\nHe has constrained our fellow Citizens taken Captive on the high Seas to bear\\nArms against their Country, to become the executioners of their friends and\\n\\nBrethren, or to fall themselves by\\n their Hands.\\nHe has excited domestic insurrections amongst us, and has endeavoured to bring\\non the inhabitants of our frontiers, the merciless Indian Savages, whose known\\n\\nrule of warfare, is an undistinguished destruction of all ages, sexes and conditions. In every\\n stage of these O\\nppressions We have\\n Petitioned for Redr\\ness in the most humble\\n terms:\\nOur repeated Pe\\ntitions have been a\\nnswered only\\n by repeate\\nd injury. A Pr\\nince whose char\\nacter is\\nthus marked by every ac\\nt which may define a Tyra\\nnt, is unfit to be the ruler of a free people. \\nNor have We been wanting in attentions to our Brittish brethren. We have warned them from\\ntime to time\\n of attemp\\nts by th\\neir legi\\nslature t\\no extend an\\n unwarra\\nntable jur\\nisdiction\\n over us. We\\nhave reminded them of the circumstances of our emigration and settlement here. We have\\nappealed to their native justice and magnanimity, and we have c\\nonjured them by the ties of our\\ncommon kindred to disavow these usurpations, which, would inevitably interrupt our\\nconnections and correspondence. They too have bee\\nn deaf to the voice of justice and of\\nconsanguinity. We must, therefore, acquiesce in the necessity\\n, which denounces our Separation,\\nand hold them, as we hold the rest of mankind, Enemies in War, in Peace Friends. \\nWe, therefore, t\\nhe Representativ\\nes of the united Sta\\ntes of America, i\\nn General Congr\\ness,\\nAssembled, appealing to the Supreme Judge of the world for the rectitude of our intentions, do,\\nin the Name, and by Authority of the g\\nood People of these Colonies, solemnly publish and\\ndeclare, That th\\nese United Colonie\\ns are, and of Rig\\nht ought to be Fre\\ne and Indepe\\nndent States;\\nthat they are Absolved from all Allegiance to the British Crown, and that a\\nll political connection\\n',\n",
       " 'between them and the State of Great Britain, is and ought to be totally dissolved; and that as Free\\n\\nand Independent States, they have full Power to levy War, conclude Peace, contract Alliances,\\nestablish Commerce, and to do all other Acts and Things which Independent States may of right\\n\\ndo. And for the support of this Declaration, with a firm reliance on the protection of divine\\n\\nProvidence, we mutually pledge to each other our Lives, our Fortunes and our sacred Honor.\\n\\n[\\nThe 56 signatures on the Declaration were arranged in six columns:\\n] \\n[Column 1]\\n\\n \\nGeorgia:\\n   Button Gwinnett\\n   Lyman \\nH\\nall\\n   George Walton \\n[Column 2]\\n\\n \\nNorth Carolina:\\n   William Hooper\\n   Joseph Hewes\\n   John Penn\\n \\nSouth Carolina:\\n   Edward Ru\\nt\\nledge\\n   Thomas Heyward, Jr.\\n  Thomas Lynch, Jr.\\n  Arthur Middleton \\n[Column 3]\\n\\n \\nMassachusetts:\\n   John Hancock\\n\\n \\nMaryland:\\n   Samuel Chase\\n\\n   William Paca\\n\\n   Thomas Stone\\n\\n   Charles Carroll of Carrollton\\n\\n \\nVirginia:\\n   George Wythe\\n\\n   Richard Henry Lee\\n\\n   Thomas Jefferson\\n\\n   Benjamin Harrison\\n\\n   Thomas Nelson, Jr.\\n\\n   Francis Lightfoot Lee\\n\\n   Carter Braxton \\n\\n[Column 4]\\n\\n \\nPennsylvania:\\n  Robert Morris\\n\\n   Benjamin Rush\\n   Benjamin Fran\\nk\\nlin\\n   John Morton\\n',\n",
       " '   George Clymer\\n   James Smith\\n   George Taylor\\n   James Wilson\\n   George Ross\\n \\nDelaware:\\n   Caesar Rodney\\n   George Read\\n   Thomas McKean \\n[Column 5]\\n\\n \\nNew York:\\n   Wi\\nl\\nli\\na\\nm F\\nl\\noyd\\n   Philip Livingston\\n   Francis L\\ne\\nwis\\n   Lewis Morris\\n \\nNew Jersey:\\n   Richard Stockton\\n   John Witherspoon\\n   Francis Hopkinson\\n   John Hart\\n   Abraham Clark \\n[Column 6]\\n\\n \\nNew Hampshire:\\n   Josiah Bartlett\\n   William Whipple\\n \\nMassachusetts:\\n   Samuel Adams\\n   John Adams\\n   Robert Treat Paine\\n   Elbridge Gerry\\n \\nRhode Island:\\n   Stephen Hopkins\\n   William Ellery\\n \\nConnecticut:\\n   Roger Sherman\\n   Samuel Huntington\\n   William Williams\\n   Oliver Wolcott\\n \\nNew Hampshire:\\n Matthew Thornton\\n \\n']"
      ]
     },
     "execution_count": 26,
     "metadata": {},
     "output_type": "execute_result"
    }
   ],
   "source": [
    "with open('US_Declaration.pdf','rb') as file:\n",
    "    pdf_text=[]\n",
    "    pdf_reader=PyPDF2.PdfFileReader(file)\n",
    "    print(pdf_reader.numPages)\n",
    "    with open('mynew_pdf.pdf','wb') as fp:\n",
    "        page=pdf_reader.getPage(0)\n",
    "        pdf_writer=PyPDF2.PdfFileWriter()\n",
    "        pdf_writer.addPage(page)\n",
    "        pdf_writer.write(fp)        \n",
    "    for i in range(pdf_reader.numPages):\n",
    "        page=pdf_reader.getPage(i)\n",
    "        pdf_text.append(page.extractText())\n",
    "pdf_text\n"
   ]
  },
  {
   "cell_type": "code",
   "execution_count": null,
   "id": "160d7791",
   "metadata": {},
   "outputs": [],
   "source": []
  }
 ],
 "metadata": {
  "kernelspec": {
   "display_name": "Python 3 (ipykernel)",
   "language": "python",
   "name": "python3"
  },
  "language_info": {
   "codemirror_mode": {
    "name": "ipython",
    "version": 3
   },
   "file_extension": ".py",
   "mimetype": "text/x-python",
   "name": "python",
   "nbconvert_exporter": "python",
   "pygments_lexer": "ipython3",
   "version": "3.7.13"
  }
 },
 "nbformat": 4,
 "nbformat_minor": 5
}
