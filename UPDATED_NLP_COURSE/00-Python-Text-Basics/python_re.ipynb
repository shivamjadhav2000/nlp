{
 "cells": [
  {
   "cell_type": "code",
   "execution_count": 1,
   "id": "d449d97a",
   "metadata": {},
   "outputs": [],
   "source": [
    "import re"
   ]
  },
  {
   "cell_type": "code",
   "execution_count": 8,
   "id": "f4e74813",
   "metadata": {},
   "outputs": [],
   "source": [
    "text=\"phone number is 9898989898,phone\""
   ]
  },
  {
   "cell_type": "code",
   "execution_count": 14,
   "id": "c023ab5c",
   "metadata": {},
   "outputs": [
    {
     "data": {
      "text/plain": [
       "[<re.Match object; span=(0, 5), match='phone'>,\n",
       " <re.Match object; span=(27, 32), match='phone'>]"
      ]
     },
     "execution_count": 14,
     "metadata": {},
     "output_type": "execute_result"
    }
   ],
   "source": [
    "k=10\n",
    "list(re.finditer(r'phone',text))"
   ]
  },
  {
   "cell_type": "code",
   "execution_count": 16,
   "id": "9e2d3581",
   "metadata": {},
   "outputs": [
    {
     "data": {
      "text/plain": [
       "'9898989898'"
      ]
     },
     "execution_count": 16,
     "metadata": {},
     "output_type": "execute_result"
    }
   ],
   "source": [
    "mymatch=re.search(r'\\d{10}',text)\n",
    "mymatch.group()"
   ]
  },
  {
   "cell_type": "code",
   "execution_count": 18,
   "id": "7165d9c5",
   "metadata": {},
   "outputs": [
    {
     "data": {
      "text/plain": [
       "['9898989898', '8787878787']"
      ]
     },
     "execution_count": 18,
     "metadata": {},
     "output_type": "execute_result"
    }
   ],
   "source": [
    "text=\"phone number is 9898989898,phone,8787878787\"\n",
    "mymatch=re.findall(r'\\d{10}',text)\n",
    "mymatch"
   ]
  },
  {
   "cell_type": "code",
   "execution_count": 22,
   "id": "89da7a77",
   "metadata": {},
   "outputs": [
    {
     "data": {
      "text/plain": [
       "[<re.Match object; span=(16, 26), match='9898989898'>,\n",
       " <re.Match object; span=(33, 43), match='8787878787'>]"
      ]
     },
     "execution_count": 22,
     "metadata": {},
     "output_type": "execute_result"
    }
   ],
   "source": [
    "text=\"phone number is 9898989898,phone,8787878787\"\n",
    "mymatch=re.finditer(r'\\d{10}',text)\n",
    "list(mymatch)"
   ]
  },
  {
   "cell_type": "code",
   "execution_count": 33,
   "id": "d99d2e9f",
   "metadata": {},
   "outputs": [
    {
     "data": {
      "text/plain": [
       "['cat', 'hat', 'hat']"
      ]
     },
     "execution_count": 33,
     "metadata": {},
     "output_type": "execute_result"
    }
   ],
   "source": [
    "re.findall(r\"[^\\s]at\",\"this is a cat on a hat look at that\")"
   ]
  },
  {
   "cell_type": "code",
   "execution_count": 36,
   "id": "2f598627",
   "metadata": {},
   "outputs": [
    {
     "data": {
      "text/plain": [
       "[' is my lucky number and ', ' ', '.']"
      ]
     },
     "execution_count": 36,
     "metadata": {},
     "output_type": "execute_result"
    }
   ],
   "source": [
    "re.findall(r\"[^\\d]+\",\"19 is my lucky number and 12 2.\")"
   ]
  },
  {
   "cell_type": "code",
   "execution_count": 38,
   "id": "0a0a92c5",
   "metadata": {},
   "outputs": [
    {
     "data": {
      "text/plain": [
       "['hey', 'do', 'you', 'know', 'how', 'to', 'remove', 'the', 'punchuation', 's']"
      ]
     },
     "execution_count": 38,
     "metadata": {},
     "output_type": "execute_result"
    }
   ],
   "source": [
    "my_text=\"hey! do you know how to  remove the punchuation's?\"\n",
    "re.findall(r\"[^!'?. ]+\",my_text)"
   ]
  },
  {
   "cell_type": "code",
   "execution_count": null,
   "id": "23ef60cb",
   "metadata": {},
   "outputs": [],
   "source": []
  }
 ],
 "metadata": {
  "kernelspec": {
   "display_name": "Python 3 (ipykernel)",
   "language": "python",
   "name": "python3"
  },
  "language_info": {
   "codemirror_mode": {
    "name": "ipython",
    "version": 3
   },
   "file_extension": ".py",
   "mimetype": "text/x-python",
   "name": "python",
   "nbconvert_exporter": "python",
   "pygments_lexer": "ipython3",
   "version": "3.7.13"
  }
 },
 "nbformat": 4,
 "nbformat_minor": 5
}
