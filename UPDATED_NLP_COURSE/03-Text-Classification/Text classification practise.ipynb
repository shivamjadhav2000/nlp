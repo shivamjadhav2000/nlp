{
 "cells": [
  {
   "cell_type": "code",
   "execution_count": 1,
   "id": "6e9f57eb",
   "metadata": {},
   "outputs": [],
   "source": [
    "import numpy as np\n",
    "import pandas as pd"
   ]
  },
  {
   "cell_type": "code",
   "execution_count": 2,
   "id": "71d1fc55",
   "metadata": {},
   "outputs": [],
   "source": [
    "df=pd.read_csv(\"../TextFiles/moviereviews.tsv\",sep=\"\\t\")"
   ]
  },
  {
   "cell_type": "code",
   "execution_count": 3,
   "id": "9959447c",
   "metadata": {},
   "outputs": [
    {
     "data": {
      "text/html": [
       "<div>\n",
       "<style scoped>\n",
       "    .dataframe tbody tr th:only-of-type {\n",
       "        vertical-align: middle;\n",
       "    }\n",
       "\n",
       "    .dataframe tbody tr th {\n",
       "        vertical-align: top;\n",
       "    }\n",
       "\n",
       "    .dataframe thead th {\n",
       "        text-align: right;\n",
       "    }\n",
       "</style>\n",
       "<table border=\"1\" class=\"dataframe\">\n",
       "  <thead>\n",
       "    <tr style=\"text-align: right;\">\n",
       "      <th></th>\n",
       "      <th>label</th>\n",
       "      <th>review</th>\n",
       "    </tr>\n",
       "  </thead>\n",
       "  <tbody>\n",
       "    <tr>\n",
       "      <th>0</th>\n",
       "      <td>neg</td>\n",
       "      <td>how do films like mouse hunt get into theatres...</td>\n",
       "    </tr>\n",
       "    <tr>\n",
       "      <th>1</th>\n",
       "      <td>neg</td>\n",
       "      <td>some talented actresses are blessed with a dem...</td>\n",
       "    </tr>\n",
       "    <tr>\n",
       "      <th>2</th>\n",
       "      <td>pos</td>\n",
       "      <td>this has been an extraordinary year for austra...</td>\n",
       "    </tr>\n",
       "    <tr>\n",
       "      <th>3</th>\n",
       "      <td>pos</td>\n",
       "      <td>according to hollywood movies made in last few...</td>\n",
       "    </tr>\n",
       "    <tr>\n",
       "      <th>4</th>\n",
       "      <td>neg</td>\n",
       "      <td>my first press screening of 1998 and already i...</td>\n",
       "    </tr>\n",
       "  </tbody>\n",
       "</table>\n",
       "</div>"
      ],
      "text/plain": [
       "  label                                             review\n",
       "0   neg  how do films like mouse hunt get into theatres...\n",
       "1   neg  some talented actresses are blessed with a dem...\n",
       "2   pos  this has been an extraordinary year for austra...\n",
       "3   pos  according to hollywood movies made in last few...\n",
       "4   neg  my first press screening of 1998 and already i..."
      ]
     },
     "execution_count": 3,
     "metadata": {},
     "output_type": "execute_result"
    }
   ],
   "source": [
    "df.head()"
   ]
  },
  {
   "cell_type": "code",
   "execution_count": 4,
   "id": "97b6e968",
   "metadata": {},
   "outputs": [
    {
     "data": {
      "text/html": [
       "<div>\n",
       "<style scoped>\n",
       "    .dataframe tbody tr th:only-of-type {\n",
       "        vertical-align: middle;\n",
       "    }\n",
       "\n",
       "    .dataframe tbody tr th {\n",
       "        vertical-align: top;\n",
       "    }\n",
       "\n",
       "    .dataframe thead th {\n",
       "        text-align: right;\n",
       "    }\n",
       "</style>\n",
       "<table border=\"1\" class=\"dataframe\">\n",
       "  <thead>\n",
       "    <tr style=\"text-align: right;\">\n",
       "      <th></th>\n",
       "      <th>label</th>\n",
       "      <th>review</th>\n",
       "    </tr>\n",
       "  </thead>\n",
       "  <tbody>\n",
       "    <tr>\n",
       "      <th>count</th>\n",
       "      <td>2000</td>\n",
       "      <td>1965</td>\n",
       "    </tr>\n",
       "    <tr>\n",
       "      <th>unique</th>\n",
       "      <td>2</td>\n",
       "      <td>1939</td>\n",
       "    </tr>\n",
       "    <tr>\n",
       "      <th>top</th>\n",
       "      <td>neg</td>\n",
       "      <td></td>\n",
       "    </tr>\n",
       "    <tr>\n",
       "      <th>freq</th>\n",
       "      <td>1000</td>\n",
       "      <td>27</td>\n",
       "    </tr>\n",
       "  </tbody>\n",
       "</table>\n",
       "</div>"
      ],
      "text/plain": [
       "       label review\n",
       "count   2000   1965\n",
       "unique     2   1939\n",
       "top      neg       \n",
       "freq    1000     27"
      ]
     },
     "execution_count": 4,
     "metadata": {},
     "output_type": "execute_result"
    }
   ],
   "source": [
    "df.describe()"
   ]
  },
  {
   "cell_type": "code",
   "execution_count": 5,
   "id": "99bfcef0",
   "metadata": {},
   "outputs": [
    {
     "data": {
      "text/plain": [
       "label      0\n",
       "review    35\n",
       "dtype: int64"
      ]
     },
     "execution_count": 5,
     "metadata": {},
     "output_type": "execute_result"
    }
   ],
   "source": [
    "df.isna().sum()"
   ]
  },
  {
   "cell_type": "code",
   "execution_count": 6,
   "id": "5f2159bd",
   "metadata": {},
   "outputs": [
    {
     "data": {
      "text/plain": [
       "(1965, 2)"
      ]
     },
     "execution_count": 6,
     "metadata": {},
     "output_type": "execute_result"
    }
   ],
   "source": [
    "df.dropna(inplace=True)\n",
    "df.shape"
   ]
  },
  {
   "cell_type": "code",
   "execution_count": 7,
   "id": "481ef92b",
   "metadata": {},
   "outputs": [
    {
     "data": {
      "text/plain": [
       "27"
      ]
     },
     "execution_count": 7,
     "metadata": {},
     "output_type": "execute_result"
    }
   ],
   "source": [
    "df['review'].str.isspace().sum()"
   ]
  },
  {
   "cell_type": "code",
   "execution_count": 8,
   "id": "4bf01ded",
   "metadata": {},
   "outputs": [],
   "source": [
    "df.drop(df.index[df['review'].str.isspace()],inplace=True)"
   ]
  },
  {
   "cell_type": "code",
   "execution_count": 9,
   "id": "f94f835b",
   "metadata": {},
   "outputs": [
    {
     "data": {
      "text/plain": [
       "(1938, 2)"
      ]
     },
     "execution_count": 9,
     "metadata": {},
     "output_type": "execute_result"
    }
   ],
   "source": [
    "df.shape"
   ]
  },
  {
   "cell_type": "code",
   "execution_count": 10,
   "id": "f1e73dc2",
   "metadata": {},
   "outputs": [
    {
     "data": {
      "text/plain": [
       "0"
      ]
     },
     "execution_count": 10,
     "metadata": {},
     "output_type": "execute_result"
    }
   ],
   "source": [
    "df['review'].str.isspace().sum()"
   ]
  },
  {
   "cell_type": "code",
   "execution_count": 11,
   "id": "3fa3af1c",
   "metadata": {},
   "outputs": [],
   "source": [
    "X=df['review']\n",
    "y=df['label']"
   ]
  },
  {
   "cell_type": "code",
   "execution_count": 12,
   "id": "d4b1b39d",
   "metadata": {},
   "outputs": [
    {
     "name": "stderr",
     "output_type": "stream",
     "text": [
      "/home/shivamjadhav/anaconda3/envs/nlp_course/lib/python3.7/site-packages/sklearn/utils/validation.py:37: DeprecationWarning: distutils Version classes are deprecated. Use packaging.version instead.\n",
      "  LARGE_SPARSE_SUPPORTED = LooseVersion(scipy_version) >= '0.14.0'\n"
     ]
    }
   ],
   "source": [
    "from sklearn.model_selection import train_test_split\n",
    "x_train,x_test,y_train,y_test=train_test_split(X,y,test_size=0.33,random_state=42)"
   ]
  },
  {
   "cell_type": "code",
   "execution_count": 13,
   "id": "6d895aa2",
   "metadata": {},
   "outputs": [
    {
     "name": "stderr",
     "output_type": "stream",
     "text": [
      "/home/shivamjadhav/anaconda3/envs/nlp_course/lib/python3.7/site-packages/sklearn/utils/validation.py:209: DeprecationWarning: distutils Version classes are deprecated. Use packaging.version instead.\n",
      "  if LooseVersion(joblib_version) < '0.12':\n"
     ]
    },
    {
     "data": {
      "text/plain": [
       "Pipeline(memory=None,\n",
       "     steps=[('vectorize', TfidfVectorizer(analyzer='word', binary=False, decode_error='strict',\n",
       "        dtype=<class 'numpy.float64'>, encoding='utf-8', input='content',\n",
       "        lowercase=True, max_df=1.0, max_features=None, min_df=1,\n",
       "        ngram_range=(1, 1), norm='l2', preprocessor=None, smooth_idf=T...ax_iter=1000,\n",
       "     multi_class='ovr', penalty='l2', random_state=None, tol=0.0001,\n",
       "     verbose=0))])"
      ]
     },
     "execution_count": 13,
     "metadata": {},
     "output_type": "execute_result"
    }
   ],
   "source": [
    "from sklearn.pipeline import Pipeline\n",
    "from sklearn.feature_extraction.text import TfidfVectorizer\n",
    "from sklearn.svm import LinearSVC\n",
    "test_clf=Pipeline([('vectorize',TfidfVectorizer()),('clf',LinearSVC())])\n",
    "test_clf.fit(x_train,y_train)"
   ]
  },
  {
   "cell_type": "code",
   "execution_count": 14,
   "id": "9a6ec4c6",
   "metadata": {},
   "outputs": [],
   "source": [
    "y_pred=test_clf.predict(x_test)"
   ]
  },
  {
   "cell_type": "code",
   "execution_count": 15,
   "id": "d6d32d19",
   "metadata": {},
   "outputs": [],
   "source": [
    "from sklearn.metrics import confusion_matrix,classification_report,accuracy_score"
   ]
  },
  {
   "cell_type": "code",
   "execution_count": 16,
   "id": "e5368367",
   "metadata": {},
   "outputs": [
    {
     "data": {
      "text/plain": [
       "array([[259,  49],\n",
       "       [ 49, 283]])"
      ]
     },
     "execution_count": 16,
     "metadata": {},
     "output_type": "execute_result"
    }
   ],
   "source": [
    "confusion_matrix(y_test,y_pred)"
   ]
  },
  {
   "cell_type": "code",
   "execution_count": 17,
   "id": "7548180e",
   "metadata": {},
   "outputs": [
    {
     "name": "stdout",
     "output_type": "stream",
     "text": [
      "              precision    recall  f1-score   support\n",
      "\n",
      "         neg       0.84      0.84      0.84       308\n",
      "         pos       0.85      0.85      0.85       332\n",
      "\n",
      "   micro avg       0.85      0.85      0.85       640\n",
      "   macro avg       0.85      0.85      0.85       640\n",
      "weighted avg       0.85      0.85      0.85       640\n",
      "\n"
     ]
    }
   ],
   "source": [
    "print(classification_report(y_test,y_pred))"
   ]
  },
  {
   "cell_type": "code",
   "execution_count": 18,
   "id": "52a1d1ff",
   "metadata": {},
   "outputs": [
    {
     "name": "stdout",
     "output_type": "stream",
     "text": [
      "0.846875\n"
     ]
    }
   ],
   "source": [
    "print(accuracy_score(y_test,y_pred))"
   ]
  },
  {
   "cell_type": "code",
   "execution_count": 19,
   "id": "905ef25c",
   "metadata": {},
   "outputs": [
    {
     "data": {
      "text/plain": [
       "array(['neg'], dtype=object)"
      ]
     },
     "execution_count": 19,
     "metadata": {},
     "output_type": "execute_result"
    }
   ],
   "source": [
    "test_clf.predict(['the worst movie ever in my life'])"
   ]
  },
  {
   "cell_type": "code",
   "execution_count": 20,
   "id": "38ba201e",
   "metadata": {},
   "outputs": [
    {
     "data": {
      "text/plain": [
       "array(['neg'], dtype=object)"
      ]
     },
     "execution_count": 20,
     "metadata": {},
     "output_type": "execute_result"
    }
   ],
   "source": [
    "##kuldadeep added review\n",
    "test_clf.predict(['Hero acts good and all the characters are also good and they act well but the story is not at all good. The lines are clumsy and roles are too clumsy and there is no use of heroein. Some scenes are too bored and some are good. Songs are meaningless.'])"
   ]
  },
  {
   "cell_type": "code",
   "execution_count": 25,
   "id": "c4176594",
   "metadata": {},
   "outputs": [],
   "source": [
    "s=\"Shot composition was too good which is one aspect I always appreciate in SSR movies. The use of the foreground in the earlier frames of this spectacle subtly taught us about the environment we are being transported to. Cinematography by Senthil truly blew my mind, the use of rack focuses was very unique in a minimal way. To emphasize SSRs vision, Senthil grasped the landscapes of the rural, industrial, and british raj settings of historical India using establishing shots and aerial views innovatively. The team did great work during post-production (color correction) as the warm hue that glazed the screen made everything feel that much more Indian. CGI might be my own gripe but considering the budget every penny was used effectively. Regardless, SSR knows how to immerse us into the emotional baggage of the storytelling, making us forget we are looking at CG elements altogether. An example of SSR and Senthils collaborative eye for detail was the precision of the dust after Ram beats his punching bag, ensuring the specular highlights glared off of the environment (Ram, punching bag and every spec of dust) making us feel the weight of Ram's punches.SSRs world-building capabilities have already been proven with Baahubali and here he puts it to use in a real-world setting enclosing us in the world of RRR. For example, here Scott speaks about a bullet's value using the currency term pound sterling (current timeline) vs shilling (flashback timeline) depicting the story's continuity. Another detail I liked is that Ram used murray hair wax on Bheem which was the wax only high class individuals used at that time. Alluri Sita Ramaraju n Khomuram Bheem were simple but PERFECT! Our Ram Charan Tej and Nandamuri Taraka Ramarao lived up to their namesakes and gone even beyond. They gave performances of a lifetime! Tarak anna portrayed the emotion-packed Bheem and his innocent eyes with such heft. Charan anna depicted rage, superiority and resilience with immense nuance. Both complement each other beautifully but for some reason that 0.00000001 edge, I feel like Ram took. This is coming from an unbiased standpoint since I'm an NTR fan first and an RC fan second BUT Ram Charan has scaled in such a way he deserves that praise. He has come a long way and improved like crazy. There is a certain nuance to his acting that can't be beat. NTR as usual delivered perfectly without missing a SINGLE beat. Overall, the themes of the film (such as Brotherhood, Persistence and Hope) were consistent and very human, rendering the emotional connect that much more real. Finally, the Hindu Mythology parallels and symbolisms were seamlessly embedded in RRR, enhancing the nativity of OUR Alluri Sita Ramaraju n Khomuram Bheem revolution.10/5 speaking as a fan and 4.8/5 speaking critically and unbiased. Jakkannas vision and effort deserves all the praise. Exceeded my expectations!\""
   ]
  },
  {
   "cell_type": "code",
   "execution_count": 26,
   "id": "d8dcd240",
   "metadata": {},
   "outputs": [
    {
     "data": {
      "text/plain": [
       "array(['pos'], dtype=object)"
      ]
     },
     "execution_count": 26,
     "metadata": {},
     "output_type": "execute_result"
    }
   ],
   "source": [
    "test_clf.predict([s])"
   ]
  },
  {
   "cell_type": "code",
   "execution_count": 27,
   "id": "7540825f",
   "metadata": {},
   "outputs": [],
   "source": [
    "ss=\"The one movie which came in my mind after watching Rajamouli's three hour plus extravaganza is the late Manmohan Desai's Mard (1985). Like Desai's last hit, RRR is all about fighting against British who are depicted here as blood sucking vampires, no less! In fact, one British General's wife demands more blood and gore as she witnesses the public flogging of a lead actor. Oofff!! By the way, the British are not just mere murderers but also randomly pick up innocent children from their village for a pound or two. The entire three hour screenplay is dedicated to bringing this child back from their evil clutches. Woah!! Unlike his previous Bahubali (2015), Rajamouli has chosen a flimsy plot this time and though he infuses his trademark dazzle and grandeur, the end result is nowhere close to his erstwhile blockbuster. Yup, we get many breathtaking visuals and superbly choreographed action setpieces but RRR just doesn't hold on the whole. In one scene, we see NTR Jr. holding a vintage motorcycle and then throwing it like a frisbee on his opponent. Oh, and we blame poor John Abraham in Bollywood for doing the same!! Of the cast, Junior NTR and Ram Charan are both brilliant and their onscreen camaraderie reminded me of Dharam-Jeetendra in Desai's another hit Dharam Veer (1977). Thats the thing with RRR...it makes you nostalgic of all those Bollywood excesses of yore. The times when we applauded the hero bashing up a few thousands single handedly (Ram Charan's intro for example) or taming a tiger with his bare hands (NTR's great grand entry). Growwlll! This is a typical vintage masala flick presented on a spectacular scale in 3D with some four hundred crores worth of investment. Offo!! Not that I am against all yesteryear masala entertainers but in today's world, a four hundred crores magnum opus which can only afford to bring back nostalgia of those classic entertainers then made with significant budget constraints cannot be wholeheartedly appreciated. Please!! Bollywood stars Ajay Devgn and Alia Bhatt appear in cameos just to make the film saleable in the Hindi belt. Devgn gets two scenes. Alia gets three. There is zero value add from these two!! The British actors are so caricaturish that perhaps, even animation would work fine in place of humans; I kid you not!! On the positive, the production values are top notch, the VFX is reasonably impressive (first hour specially) and the climactic transformation of Ram Charan in to Lord Ram's avatar is an interesting twist which drew loud whistles in the half empty Paradise Cinema, Mahim I visited first day first show. Sadly, the rest of the movie was all deja vu!!!\""
   ]
  },
  {
   "cell_type": "code",
   "execution_count": 28,
   "id": "b22e1c87",
   "metadata": {},
   "outputs": [
    {
     "data": {
      "text/plain": [
       "array(['neg'], dtype=object)"
      ]
     },
     "execution_count": 28,
     "metadata": {},
     "output_type": "execute_result"
    }
   ],
   "source": [
    "test_clf.predict([ss])"
   ]
  },
  {
   "cell_type": "code",
   "execution_count": null,
   "id": "719d283c",
   "metadata": {},
   "outputs": [],
   "source": []
  }
 ],
 "metadata": {
  "kernelspec": {
   "display_name": "Python 3 (ipykernel)",
   "language": "python",
   "name": "python3"
  },
  "language_info": {
   "codemirror_mode": {
    "name": "ipython",
    "version": 3
   },
   "file_extension": ".py",
   "mimetype": "text/x-python",
   "name": "python",
   "nbconvert_exporter": "python",
   "pygments_lexer": "ipython3",
   "version": "3.7.13"
  }
 },
 "nbformat": 4,
 "nbformat_minor": 5
}
