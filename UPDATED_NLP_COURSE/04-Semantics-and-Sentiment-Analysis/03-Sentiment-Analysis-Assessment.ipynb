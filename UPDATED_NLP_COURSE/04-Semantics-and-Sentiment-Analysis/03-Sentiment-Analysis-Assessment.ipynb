{
 "cells": [
  {
   "cell_type": "markdown",
   "metadata": {
    "collapsed": true
   },
   "source": [
    "___\n",
    "\n",
    "<a href='http://www.pieriandata.com'> <img src='../Pierian_Data_Logo.png' /></a>\n",
    "___"
   ]
  },
  {
   "cell_type": "markdown",
   "metadata": {},
   "source": [
    "# Sentiment Analysis Assessment - Solution\n",
    "\n",
    "## Task #1: Perform vector arithmetic on your own words\n",
    "Write code that evaluates vector arithmetic on your own set of related words. The goal is to come as close to an expected word as possible. Please feel free to share success stories in the Q&A Forum for this section!"
   ]
  },
  {
   "cell_type": "code",
   "execution_count": 1,
   "metadata": {},
   "outputs": [],
   "source": [
    "# Import spaCy and load the language library. Remember to use a larger model!\n",
    "import spacy\n",
    "nlp=spacy.load('en_core_web_lg')\n"
   ]
  },
  {
   "cell_type": "code",
   "execution_count": 8,
   "metadata": {},
   "outputs": [
    {
     "data": {
      "text/plain": [
       "{'ball': array([ 3.8024e-01,  2.9039e-01,  1.4515e-01, -1.5874e-01,  1.2825e-01,\n",
       "        -5.7517e-01,  1.4336e-01,  5.5336e-01,  1.1797e-01,  1.6762e+00,\n",
       "        -5.1858e-01,  4.4695e-01,  1.4651e-01,  1.3207e-01, -5.3212e-01,\n",
       "        -9.0482e-02, -3.1610e-03,  9.7623e-01, -5.5459e-01, -9.2835e-02,\n",
       "        -2.7538e-01, -1.4019e-01, -2.0197e-01,  7.3606e-02,  3.3672e-01,\n",
       "         1.1816e-01, -1.5885e-01, -6.5039e-03, -7.0669e-01, -7.3275e-01,\n",
       "        -5.5918e-01, -1.1182e-01, -6.8673e-01, -3.6860e-01,  3.1843e-01,\n",
       "        -1.4729e-01,  8.4387e-02, -1.7177e-01,  3.4541e-01, -5.2082e-01,\n",
       "         7.5341e-01,  4.3049e-01, -6.7967e-01, -9.8647e-02,  4.4761e-01,\n",
       "        -3.0102e-01, -5.2481e-01,  4.3892e-01, -5.3003e-01,  5.9068e-01,\n",
       "         3.4973e-02, -1.7312e-03, -9.0953e-02,  1.2100e-02,  1.1134e-01,\n",
       "        -1.8946e-01,  1.2559e-01,  3.4028e-01,  3.5890e-03, -2.7661e-01,\n",
       "        -1.9093e-01,  5.1523e-01, -1.9722e-01,  1.5881e-01,  3.7569e-01,\n",
       "         1.0391e-01,  2.4920e-02,  4.9394e-01,  2.8155e-02,  4.9148e-01,\n",
       "         1.3598e-01, -1.6206e-01,  1.7941e-01,  2.2635e-02, -5.6664e-01,\n",
       "         5.4870e-02, -3.7480e-02, -3.3027e-01,  4.2556e-01, -2.2718e-01,\n",
       "        -4.3317e-01,  4.2802e-01,  2.3844e-02, -3.5791e-01, -5.5811e-01,\n",
       "         5.3820e-02,  1.1243e+00,  9.1766e-01, -1.4913e-01,  3.5711e-01,\n",
       "         7.3611e-01,  1.0738e-01, -1.1518e-01, -2.6904e-01,  5.8544e-02,\n",
       "        -4.9932e-01,  2.3472e-02, -3.8964e-01,  1.7639e-01,  2.6298e-01,\n",
       "        -1.7243e-01, -2.9884e-01, -6.8742e-02,  3.7530e-01, -2.1868e-02,\n",
       "        -4.6848e-01, -1.2369e-01,  1.8645e-02,  1.2945e-01,  5.6760e-02,\n",
       "        -9.0484e-02, -1.3421e-01, -8.7263e-01, -5.9675e-01,  5.6414e-01,\n",
       "         5.3814e-01, -4.6360e-01,  4.7577e-04, -3.5637e-01,  4.7779e-01,\n",
       "         2.8932e-01, -1.0335e-02, -4.4229e-01,  3.5885e-01,  8.0924e-02,\n",
       "         3.2991e-01, -7.8825e-01,  3.0295e-01, -2.8379e-01,  4.4309e-01,\n",
       "        -2.7931e-01,  3.3789e-01, -4.7467e-01, -2.2901e-01,  4.1858e-01,\n",
       "        -2.8762e-01,  8.1109e-01,  5.9581e-02,  1.7061e-01, -3.0388e-01,\n",
       "        -2.5326e+00,  8.6299e-03,  2.1802e-01,  2.0630e-01,  6.5448e-02,\n",
       "        -2.6287e-01,  5.1894e-01, -4.1308e-01,  3.2865e-01,  5.1470e-01,\n",
       "         1.8270e-03,  2.6776e-01,  4.1285e-01,  2.3180e-01, -1.6115e-01,\n",
       "        -1.7804e-01, -2.9187e-01,  5.1124e-01, -1.6057e-01, -2.4932e-01,\n",
       "         5.3367e-01,  8.7688e-02,  7.9040e-02, -2.5596e-01,  2.6714e-01,\n",
       "         1.1943e-01,  1.6887e-01,  9.6914e-02, -2.9155e-02,  4.7808e-01,\n",
       "        -3.2192e-01, -2.2495e-01, -4.5823e-01, -1.9766e-01, -5.8234e-01,\n",
       "        -4.4634e-01, -2.5356e-01,  8.2615e-02, -7.5520e-02, -3.1094e-01,\n",
       "        -2.6731e-01,  1.3819e-01,  1.9790e-01, -1.0284e-01, -2.5277e-02,\n",
       "        -5.4065e-01, -3.3862e-01,  9.2670e-02,  4.2212e-01,  3.7019e-01,\n",
       "        -3.1022e-01, -2.1119e-01,  3.3929e-01,  8.0005e-02, -3.9644e-01,\n",
       "         7.1524e-02,  3.2517e-01, -6.0625e-02, -1.8863e-02,  3.0573e-01,\n",
       "         8.2842e-01, -8.3587e-02,  3.4356e-01, -1.1065e-01,  5.1368e-02,\n",
       "         2.2731e-01,  3.6847e-01, -3.8860e-01,  2.2639e-01,  3.8293e-01,\n",
       "        -2.3329e-01,  3.8320e-01,  4.8531e-01,  5.6087e-02, -3.8636e-02,\n",
       "         5.2884e-01, -1.1714e-01,  4.2671e-01, -7.3266e-01,  1.1161e-01,\n",
       "         1.4485e-01,  9.4991e-02, -1.6416e-01, -2.6195e-01, -5.7356e-02,\n",
       "         8.7169e-02,  1.7070e-01,  7.6374e-04,  6.4531e-01,  9.4697e-01,\n",
       "         5.2736e-01,  1.8415e-01,  5.0680e-02,  2.9372e-01,  3.1251e-01,\n",
       "         3.0664e-01, -7.6649e-02,  8.4246e-01, -3.6478e-01,  1.1764e-01,\n",
       "         4.2954e-01,  4.4303e-01, -3.9947e-01,  6.1937e-01, -7.0755e-01,\n",
       "         4.0605e-02, -2.3699e-01, -7.3227e-02, -2.0253e-01,  8.4575e-01,\n",
       "        -1.5036e-01, -2.1232e-01,  6.5961e-02, -3.2538e-02,  1.6217e-01,\n",
       "         2.6745e-02,  1.5461e-01,  4.8957e-01,  3.5196e-02, -9.9938e-02,\n",
       "        -1.8450e-02,  2.3447e-01,  4.3366e-01, -4.8655e-01,  4.5412e-02,\n",
       "         8.0768e-01, -2.8424e-01, -2.0960e-01, -1.6944e-01, -2.3122e-01,\n",
       "         6.1533e-02,  1.0229e-01,  1.3569e-01,  1.9615e-01, -4.8137e-02,\n",
       "         3.5888e-01,  1.2330e-02, -2.1491e-01,  8.5214e-02, -1.0875e-02,\n",
       "        -4.8322e-01,  1.6668e-01, -5.3607e-01,  1.5859e-01, -1.8440e-01,\n",
       "        -2.3283e-01, -4.4677e-01, -8.0471e-01,  6.6059e-01, -1.3927e-01,\n",
       "         3.7355e-01, -1.5227e-01,  1.1377e-01, -1.5527e-01,  9.6394e-02,\n",
       "        -1.9388e-01, -1.3445e-01, -9.0520e-02,  8.6341e-02,  4.0129e-01],\n",
       "       dtype=float32),\n",
       " 'basket': array([-2.7702e-01,  1.1351e-01,  6.6056e-01, -6.8959e-01,  4.5765e-01,\n",
       "        -2.6894e-01, -1.4798e-01,  3.4104e-03,  1.0538e-02,  9.6129e-01,\n",
       "        -6.9475e-01,  4.0081e-01,  2.2489e-01, -1.3701e-02, -8.8753e-02,\n",
       "        -1.9441e-01,  1.1498e-01,  1.4056e+00,  5.6955e-01,  2.3160e-01,\n",
       "        -7.3379e-01, -7.2997e-02,  3.6489e-02,  2.9377e-02,  4.3425e-01,\n",
       "         6.3142e-01,  1.2482e-01,  3.9762e-01, -2.2481e-01, -6.2455e-01,\n",
       "        -9.3051e-02, -2.0439e-01, -9.6611e-02, -6.7773e-02, -1.1754e-01,\n",
       "        -3.9961e-01, -3.8762e-02,  9.7839e-02,  1.3445e-01, -5.7840e-01,\n",
       "        -1.1576e-01,  8.9170e-02, -6.5211e-02, -2.7424e-01,  3.7958e-01,\n",
       "        -3.8796e-01, -1.8619e-02,  7.7860e-02, -2.6547e-02,  4.8724e-01,\n",
       "        -6.6207e-02, -1.4006e-01, -7.6439e-02, -1.3204e-01,  1.9829e-01,\n",
       "        -4.3983e-01,  3.7629e-02,  2.8278e-01, -2.1141e-01,  1.8710e-01,\n",
       "         3.1738e-01,  2.0144e-01, -1.8864e-01, -5.6700e-01,  2.4179e-01,\n",
       "        -1.1277e-01,  3.0380e-01,  2.5156e-01,  3.0110e-01,  2.3679e-01,\n",
       "        -2.4817e-01,  2.1900e-01, -2.8239e-01,  2.7783e-01,  3.0409e-02,\n",
       "         2.1147e-01, -5.3852e-02, -2.3373e-01, -1.7340e-01, -3.5073e-02,\n",
       "         1.0964e-01,  7.5469e-01,  1.1506e-02, -2.5987e-01, -1.3111e-01,\n",
       "         9.5132e-02,  1.1259e+00,  1.4062e+00, -1.8296e-01, -6.8907e-02,\n",
       "         5.7729e-01,  2.1471e-01,  2.6386e-01,  8.3281e-02, -3.8632e-01,\n",
       "        -2.7226e-01, -1.6644e-01, -2.1185e-02,  3.5789e-01, -1.3544e-01,\n",
       "        -4.5287e-01, -6.5684e-01,  2.1185e-01, -4.1229e-01, -3.0042e-01,\n",
       "        -5.2804e-01,  5.2852e-01, -8.2301e-02,  7.6785e-01,  2.6102e-01,\n",
       "         3.2413e-01, -1.1997e-01, -1.6693e-01, -1.6016e-01,  2.8525e-01,\n",
       "        -1.1859e-01, -4.0984e-01,  3.5737e-02,  3.7990e-01,  4.8657e-01,\n",
       "        -2.5983e-01, -1.3877e-01,  1.1424e-01,  3.5619e-01, -7.8233e-02,\n",
       "        -4.5318e-01, -1.9650e-01, -5.3422e-02,  1.7535e-01,  1.5121e-01,\n",
       "        -2.1277e-01, -9.9895e-02,  9.7065e-02,  1.5787e-01, -5.4445e-02,\n",
       "         3.8749e-04,  1.5402e-01,  2.9760e-02, -1.7923e-04, -3.8978e-01,\n",
       "        -1.8145e+00,  1.8633e-01,  9.1184e-02,  2.0105e-01, -5.3596e-01,\n",
       "         1.6223e-01,  4.7332e-02,  1.4456e-02,  3.6935e-01,  1.5001e-01,\n",
       "         2.9014e-01,  1.4369e-01, -1.7678e-01, -2.2798e-01, -4.5064e-01,\n",
       "        -6.7135e-02, -3.0560e-01,  3.1024e-01,  1.7637e-01,  4.4208e-01,\n",
       "         3.1720e-01,  8.3683e-01, -6.1810e-01, -7.0884e-01, -4.0725e-01,\n",
       "        -9.7141e-02,  7.6223e-01,  8.4796e-02,  4.4163e-02,  5.4260e-01,\n",
       "        -3.2110e-02,  1.1976e-01, -2.2756e-01,  2.3356e-01, -4.7301e-01,\n",
       "        -1.5922e-02, -6.8710e-02,  6.1644e-01, -3.0809e-01, -2.4953e-01,\n",
       "        -3.2979e-01, -9.6490e-02,  4.3413e-01, -2.3726e-01,  1.9149e-01,\n",
       "        -4.6695e-01, -1.6421e-01, -8.0723e-01,  5.4058e-02,  2.0267e-01,\n",
       "        -4.0876e-01, -4.7723e-01, -2.9248e-01, -3.4524e-01, -1.1411e-01,\n",
       "        -2.3463e-02, -1.2000e-01,  3.3197e-01,  4.0913e-01,  5.7244e-01,\n",
       "         7.1954e-01,  2.6880e-01, -6.0276e-01, -1.5668e-01,  4.4552e-01,\n",
       "         1.0170e-01,  3.4886e-01, -1.0534e-01,  5.7519e-01, -2.3894e-01,\n",
       "         5.0193e-01,  6.5217e-01,  8.2687e-02, -1.5501e-02,  7.1583e-01,\n",
       "         3.5512e-01, -4.4249e-02,  6.4305e-01, -7.7386e-01, -1.5244e-01,\n",
       "        -3.9259e-01,  1.8554e-01,  6.5255e-01, -2.0837e-01, -1.2237e-01,\n",
       "        -5.0376e-01,  3.6968e-01,  1.5748e-01, -1.6727e-01,  5.1211e-01,\n",
       "        -3.4071e-03, -5.5793e-02,  2.4731e-01,  2.2992e-01, -2.2103e-01,\n",
       "        -7.7011e-01, -1.2494e-01,  4.7934e-01,  4.4882e-02, -3.5641e-01,\n",
       "        -6.9018e-01,  4.7544e-01, -4.1103e-01,  2.4012e-01, -2.3392e-01,\n",
       "         1.5920e-01, -5.7516e-01,  1.9205e-01, -1.7486e-01,  2.7229e-01,\n",
       "        -7.5886e-02, -1.1540e-01, -4.2738e-01, -4.4634e-01,  1.9330e-01,\n",
       "         2.3415e-01,  1.0958e-01,  1.6812e-01, -1.1608e-01, -1.3596e-02,\n",
       "         6.7618e-02, -1.9902e-01,  4.1290e-01, -2.4423e-01,  2.1172e-01,\n",
       "         6.4813e-01, -3.5449e-01,  1.8927e-01, -7.0508e-01, -3.4967e-01,\n",
       "        -2.7837e-01,  9.0670e-02,  2.9905e-02, -2.4640e-01, -3.6444e-01,\n",
       "         4.2649e-01, -2.2053e-02,  1.1557e-01,  3.7596e-01, -1.8198e-01,\n",
       "        -1.8219e-02, -1.4583e-01, -1.0258e-02, -3.4345e-01, -2.1213e-01,\n",
       "         1.4139e-01, -6.3546e-02, -1.3684e-01,  2.5633e-01, -2.9848e-02,\n",
       "         1.4112e-01,  1.4114e-01,  4.4252e-01, -4.1870e-01,  1.8462e-01,\n",
       "        -4.1783e-01, -7.6425e-02, -2.4967e-01, -9.5833e-02,  3.6465e-02],\n",
       "       dtype=float32),\n",
       " 'man': array([-1.7310e-01,  2.0663e-01,  1.6543e-02, -3.1026e-01,  1.9719e-02,\n",
       "         2.7791e-01,  1.2283e-01, -2.6328e-01,  1.2522e-01,  3.1894e+00,\n",
       "        -1.6291e-01, -8.8759e-02,  3.3067e-03, -2.9483e-03, -3.4398e-01,\n",
       "         1.2779e-01, -9.4536e-02,  4.3467e-01,  4.9742e-01,  2.5068e-01,\n",
       "        -2.0901e-01, -5.8931e-01,  6.1615e-02,  1.0434e-01,  2.4424e-01,\n",
       "        -2.9120e-01,  3.0746e-01,  3.6276e-01,  7.1151e-01, -8.0523e-02,\n",
       "        -5.9524e-01,  3.4834e-01, -3.3048e-01,  7.0316e-02,  5.3329e-01,\n",
       "        -2.9081e-01,  1.3459e-01, -3.9856e-01, -3.2435e-01,  1.1867e-01,\n",
       "        -1.4938e-01, -3.8256e-01,  3.3116e-01, -3.1488e-01, -9.4491e-02,\n",
       "        -6.1319e-02,  1.5518e-01, -2.5523e-01, -1.1813e-01,  2.5296e-01,\n",
       "        -9.5174e-02, -1.6596e-01, -1.0840e-01,  8.8803e-02,  2.0890e-01,\n",
       "         4.3981e-01,  1.0476e-03, -4.0666e-02,  2.6487e-01, -6.1009e-01,\n",
       "        -1.4405e-01, -8.1185e-02,  7.5475e-03,  2.3373e-01, -2.7772e-02,\n",
       "        -2.9315e-01, -1.1744e-01, -8.3193e-02, -2.3768e-01,  1.5735e-01,\n",
       "        -5.6408e-01, -2.9323e-01,  1.6387e-02, -7.8160e-02, -2.1301e-01,\n",
       "        -1.7845e-01, -3.0769e-01, -4.6203e-01, -2.5220e-03,  4.2973e-01,\n",
       "        -4.5647e-02,  4.3434e-01,  2.9144e-01, -2.0231e-01,  6.5217e-02,\n",
       "        -4.2321e-01,  7.1227e-01, -5.5498e-01, -3.6118e-01, -1.4849e-01,\n",
       "        -1.0082e-01, -1.0045e-01, -1.7666e-01,  2.7141e-02, -1.4148e-01,\n",
       "        -5.2112e-01, -4.8785e-02, -2.9672e-01, -1.4418e-01, -2.8042e-01,\n",
       "        -6.8216e-02,  6.4455e-01,  9.4982e-02,  8.4994e-02,  8.2954e-02,\n",
       "        -2.5255e-01, -4.6606e-01,  2.7432e-01,  1.4998e-01,  5.6889e-02,\n",
       "         3.4382e-01, -3.5301e-01, -4.0666e-01,  1.3636e-02,  6.3070e-02,\n",
       "         3.4924e-01,  1.7517e-01, -1.7623e-01, -8.0157e-02,  1.2179e-01,\n",
       "        -1.4025e-01, -2.6541e-01,  1.7016e-01,  1.2596e-01, -2.1399e-01,\n",
       "        -2.1077e-01, -4.6861e-01, -2.2138e-01,  1.6753e-03, -1.4527e-01,\n",
       "         1.1256e-01, -2.4644e-02, -2.5005e-01, -4.3965e-01,  4.6923e-01,\n",
       "         2.0156e-01,  3.2739e-01,  6.8498e-02, -2.0121e-01, -7.8691e-02,\n",
       "        -2.6755e+00,  1.4326e-01,  6.9114e-02,  3.6917e-01, -1.1858e-01,\n",
       "        -2.1332e-01,  2.4918e-01, -1.2622e-01,  5.5950e-02, -2.8807e-01,\n",
       "        -5.9173e-01, -9.0193e-02, -1.8155e-01, -3.3470e-01, -7.4857e-02,\n",
       "         1.1898e-01, -4.1698e-01, -1.9773e-01,  1.9724e-01,  1.1124e-01,\n",
       "         2.6915e-01, -4.3901e-01, -5.8556e-02,  4.2020e-01,  2.7380e-01,\n",
       "        -9.7767e-02,  7.5527e-02, -2.1164e-01, -1.9093e-01,  3.5376e-01,\n",
       "        -6.9182e-01, -2.5014e-02,  5.8887e-02, -1.7279e-01, -4.4822e-01,\n",
       "        -1.5286e-01, -2.1873e-01,  2.2586e-01, -1.3494e-01,  7.7586e-03,\n",
       "        -2.8582e-01,  6.0300e-02, -6.1573e-03, -3.0737e-01, -8.2510e-01,\n",
       "         5.8975e-01, -4.1435e-01,  9.8575e-02, -8.0579e-02, -6.0510e-01,\n",
       "        -3.1138e-01,  2.3793e-01, -3.3706e-01,  9.7126e-02,  4.1277e-01,\n",
       "         2.7025e-01, -7.1067e-02, -5.1049e-01, -8.0376e-02, -1.6188e-01,\n",
       "         1.3121e-02,  2.1678e-01, -2.7958e-01, -1.9755e-01, -3.4668e-01,\n",
       "         1.0901e-01, -1.5878e-01,  1.1535e-02, -2.5060e-02, -2.4669e-01,\n",
       "         2.7795e-02, -4.6083e-01, -1.6082e-01, -1.6443e-01,  3.4003e-01,\n",
       "        -6.1288e-01,  1.3028e-03, -1.2118e-01,  3.8965e-01, -4.3394e-01,\n",
       "         6.6747e-02,  2.4109e-01, -3.1253e-01,  2.7997e-01,  1.4047e-01,\n",
       "        -1.6265e-02, -6.0792e-02,  6.5612e-01, -7.1277e-02,  8.2271e-02,\n",
       "         8.5240e-02,  1.5606e-01, -2.1927e-01, -1.2083e-01, -2.0386e-01,\n",
       "        -3.9694e-03, -4.3643e-02,  4.2532e-01, -3.3641e-01,  3.0292e-01,\n",
       "         2.9297e-01,  1.2963e-01,  1.5872e-01, -3.1301e-01,  2.6109e-01,\n",
       "         2.4433e-01, -1.9605e-02, -4.4197e-01,  4.5351e-01,  2.2184e-01,\n",
       "         3.6002e-02,  3.0979e-01,  2.8024e-02,  2.9232e-01,  8.8706e-02,\n",
       "         1.3376e-01,  5.6731e-01, -1.7374e-01,  3.7015e-01, -2.9521e-01,\n",
       "         3.4110e-02,  4.1392e-01,  1.5641e-02, -3.1128e-01, -3.4823e-01,\n",
       "         3.3560e-01,  1.7200e-01,  4.1568e-01, -2.6028e-01,  3.3601e-01,\n",
       "        -4.1509e-03, -1.6774e-02, -2.6867e-01,  5.0892e-02, -1.2670e-01,\n",
       "         4.6916e-01, -1.1842e-01,  2.9402e-01,  3.5544e-01,  7.3157e-02,\n",
       "        -1.9305e-01,  2.3060e-01, -2.6933e-01,  6.2013e-02, -5.4700e-02,\n",
       "        -3.8535e-01, -1.3039e-01, -8.4836e-02,  9.8583e-02, -1.5403e-01,\n",
       "        -3.6347e-01, -1.9985e-01, -2.2663e-01, -5.3781e-01, -2.4666e-01,\n",
       "         1.9266e-02,  2.1319e-01,  1.6665e-01, -3.8341e-01, -7.3803e-02],\n",
       "       dtype=float32)}"
      ]
     },
     "execution_count": 8,
     "metadata": {},
     "output_type": "execute_result"
    }
   ],
   "source": [
    "# Choose the words you wish to compare, and obtain their vectors\n",
    "doc=nlp(u\"ball basket man\")\n",
    "d={}\n",
    "for token in doc:\n",
    "    d[token.text]=token.vector\n",
    "d\n"
   ]
  },
  {
   "cell_type": "code",
   "execution_count": 15,
   "metadata": {},
   "outputs": [],
   "source": [
    "# Import spatial and define a cosine_similarity function\n",
    "from scipy import spatial\n",
    "cosine_similarity=lambda x,y:1-spatial.distance.cosine(x,y)\n"
   ]
  },
  {
   "cell_type": "code",
   "execution_count": 16,
   "metadata": {},
   "outputs": [],
   "source": [
    "# Write an expression for vector arithmetic\n",
    "# For example: new_vector = word1 - word2 + word3\n",
    "new_vector=d['ball']+d['basket']+d['man']\n"
   ]
  },
  {
   "cell_type": "code",
   "execution_count": 20,
   "metadata": {},
   "outputs": [],
   "source": [
    "# List the top ten closest vectors in the vocabulary to the result of the expression above\n",
    "\n",
    "cosine_similarity_words=[]\n",
    "for word in nlp.vocab:\n",
    "    if word.has_vector and word.is_lower and word.is_alpha:\n",
    "        similarity=cosine_similarity(word.vector,new_vector)\n",
    "        cosine_similarity_words.append((word.text,similarity))\n",
    "computed_similarities = []\n",
    "\n"
   ]
  },
  {
   "cell_type": "code",
   "execution_count": 22,
   "metadata": {},
   "outputs": [],
   "source": [
    "cosine_similarity_words_sorted=sorted(cosine_similarity_words,key=lambda x:-x[1])"
   ]
  },
  {
   "cell_type": "code",
   "execution_count": 23,
   "metadata": {},
   "outputs": [
    {
     "name": "stdout",
     "output_type": "stream",
     "text": [
      "['ball', 'basket', 'balls', 'man', 'hand', 'throw', 'baskets', 'boy', 'guy', 'him']\n"
     ]
    }
   ],
   "source": [
    "print([i[0] for i in cosine_similarity_words_sorted[:10]])"
   ]
  },
  {
   "cell_type": "markdown",
   "metadata": {},
   "source": [
    "#### CHALLENGE: Write a function that takes in 3 strings, performs a-b+c arithmetic, and returns a top-ten result"
   ]
  },
  {
   "cell_type": "code",
   "execution_count": 28,
   "metadata": {},
   "outputs": [],
   "source": [
    "def vector_math(a,b,c):\n",
    "    a,b,c=nlp(a),nlp(b),nlp(c)\n",
    "    new_vector=a.vector-b.vector+c.vector\n",
    "    cosine_similarity=lambda x,y:1-spatial.distance.cosine(x,y)\n",
    "    cosine_similarity_words=[]\n",
    "    for word in nlp.vocab:\n",
    "        if word.has_vector and word.is_lower and word.is_alpha:\n",
    "            similarity=cosine_similarity(new_vector,word.vector)\n",
    "            cosine_similarity_words.append((word.text,similarity))\n",
    "    cosine_similarity_words_sorted=sorted(cosine_similarity_words,key=lambda x:-x[1])\n",
    "    print([i for i in cosine_similarity_words_sorted[:10]])\n",
    "    \n",
    "    \n",
    "    \n",
    "    \n",
    "    \n",
    "    \n",
    "    \n",
    "    \n",
    "    \n",
    "    \n",
    "    \n",
    "    \n",
    "    "
   ]
  },
  {
   "cell_type": "code",
   "execution_count": 29,
   "metadata": {},
   "outputs": [
    {
     "name": "stdout",
     "output_type": "stream",
     "text": [
      "[('king', 0.8024259805679321), ('queen', 0.7880843877792358), ('prince', 0.6401076912879944), ('kings', 0.6208544373512268), ('princess', 0.6125636100769043), ('royal', 0.5800970792770386), ('throne', 0.5787012577056885), ('queens', 0.5743793845176697), ('monarch', 0.563362181186676), ('kingdom', 0.5520980954170227)]\n"
     ]
    }
   ],
   "source": [
    "# Test the function on known words:\n",
    "vector_math('king','man','woman')"
   ]
  },
  {
   "cell_type": "markdown",
   "metadata": {},
   "source": [
    "## Task #2: Perform VADER Sentiment Analysis on your own review\n",
    "Write code that returns a set of SentimentIntensityAnalyzer polarity scores based on your own written review."
   ]
  },
  {
   "cell_type": "code",
   "execution_count": 30,
   "metadata": {},
   "outputs": [
    {
     "name": "stderr",
     "output_type": "stream",
     "text": [
      "/home/shivamjadhav/anaconda3/envs/nlp_course/lib/python3.7/site-packages/sklearn/utils/validation.py:37: DeprecationWarning: distutils Version classes are deprecated. Use packaging.version instead.\n",
      "  LARGE_SPARSE_SUPPORTED = LooseVersion(scipy_version) >= '0.14.0'\n",
      "/home/shivamjadhav/anaconda3/envs/nlp_course/lib/python3.7/site-packages/nltk/twitter/__init__.py:20: UserWarning: The twython library has not been installed. Some functionality from the twitter package will not be available.\n",
      "  warnings.warn(\"The twython library has not been installed. \"\n"
     ]
    }
   ],
   "source": [
    "# Import SentimentIntensityAnalyzer and create an sid object\n",
    "from nltk.sentiment.vader import SentimentIntensityAnalyzer\n",
    "\n",
    "sid = SentimentIntensityAnalyzer()\n"
   ]
  },
  {
   "cell_type": "code",
   "execution_count": null,
   "metadata": {},
   "outputs": [],
   "source": [
    "# Write a review as one continuous string (multiple sentences are ok)\n",
    "review = 'This movie portrayed real people, and was based on actual events.'"
   ]
  },
  {
   "cell_type": "code",
   "execution_count": null,
   "metadata": {},
   "outputs": [],
   "source": [
    "# Obtain the sid scores for your review\n",
    "sid.polarity_scores(review)"
   ]
  },
  {
   "cell_type": "markdown",
   "metadata": {},
   "source": [
    "### CHALLENGE: Write a function that takes in a review and returns a score of \"Positive\", \"Negative\" or \"Neutral\""
   ]
  },
  {
   "cell_type": "code",
   "execution_count": null,
   "metadata": {},
   "outputs": [],
   "source": [
    "def review_rating(string):\n",
    "    \n",
    "    \n",
    "    \n",
    "    \n",
    "    \n",
    "    \n",
    "    "
   ]
  },
  {
   "cell_type": "code",
   "execution_count": null,
   "metadata": {},
   "outputs": [],
   "source": [
    "# Test the function on your review above:\n",
    "review_rating(review)"
   ]
  },
  {
   "cell_type": "markdown",
   "metadata": {},
   "source": [
    "## Great job!"
   ]
  }
 ],
 "metadata": {
  "kernelspec": {
   "display_name": "Python 3 (ipykernel)",
   "language": "python",
   "name": "python3"
  },
  "language_info": {
   "codemirror_mode": {
    "name": "ipython",
    "version": 3
   },
   "file_extension": ".py",
   "mimetype": "text/x-python",
   "name": "python",
   "nbconvert_exporter": "python",
   "pygments_lexer": "ipython3",
   "version": "3.7.13"
  }
 },
 "nbformat": 4,
 "nbformat_minor": 2
}
