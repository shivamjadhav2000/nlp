{
 "cells": [
  {
   "cell_type": "code",
   "execution_count": 2,
   "id": "c962ceef",
   "metadata": {},
   "outputs": [],
   "source": [
    "import spacy\n",
    "nlp=spacy.load('en_core_web_sm')"
   ]
  },
  {
   "cell_type": "code",
   "execution_count": 6,
   "id": "7c9e19f1",
   "metadata": {},
   "outputs": [],
   "source": [
    "from spacy.matcher import Matcher"
   ]
  },
  {
   "cell_type": "code",
   "execution_count": 9,
   "id": "196b93b8",
   "metadata": {},
   "outputs": [],
   "source": [
    "matcher=Matcher(nlp.vocab)"
   ]
  },
  {
   "cell_type": "code",
   "execution_count": 10,
   "id": "cc8c88dc",
   "metadata": {},
   "outputs": [],
   "source": [
    "patter1=[{'LOWER':\"solarpower\"}]\n",
    "patter2=[{'LOWER':'solar'},{'LOWER':'power'}]\n",
    "patter3=[{'LOWER':'solar'},{'IS_PUNCT':True},{'LOWER':'power'}]\n",
    "doc=nlp(u'The Solar Power industry continues to grow as demand \\\n",
    "for solarpower increases. Solar-power cars are gaining popularity.')\n",
    "matcher.add('SOLARPOWER',None,patter1,patter2,patter3)"
   ]
  },
  {
   "cell_type": "code",
   "execution_count": 11,
   "id": "01e3a674",
   "metadata": {},
   "outputs": [],
   "source": [
    "matches_found=matcher(doc)"
   ]
  },
  {
   "cell_type": "code",
   "execution_count": 15,
   "id": "d9942a25",
   "metadata": {},
   "outputs": [
    {
     "name": "stdout",
     "output_type": "stream",
     "text": [
      "18039262536297008621 SOLARPOWER 1 3 Solar Power\n",
      "18039262536297008621 SOLARPOWER 10 11 solarpower\n",
      "18039262536297008621 SOLARPOWER 13 16 Solar-power\n"
     ]
    }
   ],
   "source": [
    "for match_id, start, end in matches_found:\n",
    "    string_id = nlp.vocab.strings[match_id]  # get string representation\n",
    "    span = doc[start:end]                    # get the matched span\n",
    "    print(match_id, string_id, start, end, span.text)"
   ]
  },
  {
   "cell_type": "code",
   "execution_count": 17,
   "id": "357065b1",
   "metadata": {},
   "outputs": [
    {
     "name": "stdout",
     "output_type": "stream",
     "text": [
      "amazonreviews.tsv  huckfinn.txt       owlcreek.txt     reuters.csv\r\n",
      "elon_tweets2.txt   moviereviews2.tsv  peterrabbit.txt  sms_readme.txt\r\n",
      "elon_tweets.txt    moviereviews.tsv   reaganomics.txt  smsspamcollection.tsv\r\n"
     ]
    }
   ],
   "source": [
    "ls ../TextFiles/"
   ]
  },
  {
   "cell_type": "code",
   "execution_count": null,
   "id": "ebd221f4",
   "metadata": {},
   "outputs": [],
   "source": []
  }
 ],
 "metadata": {
  "kernelspec": {
   "display_name": "Python 3 (ipykernel)",
   "language": "python",
   "name": "python3"
  },
  "language_info": {
   "codemirror_mode": {
    "name": "ipython",
    "version": 3
   },
   "file_extension": ".py",
   "mimetype": "text/x-python",
   "name": "python",
   "nbconvert_exporter": "python",
   "pygments_lexer": "ipython3",
   "version": "3.7.13"
  }
 },
 "nbformat": 4,
 "nbformat_minor": 5
}
