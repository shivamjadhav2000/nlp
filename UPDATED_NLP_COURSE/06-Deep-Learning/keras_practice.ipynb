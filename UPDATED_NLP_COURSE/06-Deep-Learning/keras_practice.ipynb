{
 "cells": [
  {
   "cell_type": "code",
   "execution_count": 5,
   "id": "5e770535",
   "metadata": {},
   "outputs": [],
   "source": [
    "import numpy as np"
   ]
  },
  {
   "cell_type": "code",
   "execution_count": 52,
   "id": "3e42c5cd",
   "metadata": {},
   "outputs": [],
   "source": [
    "from sklearn.datasets import load_iris"
   ]
  },
  {
   "cell_type": "code",
   "execution_count": 53,
   "id": "cda8d2cb",
   "metadata": {},
   "outputs": [],
   "source": [
    "iris=load_iris()"
   ]
  },
  {
   "cell_type": "code",
   "execution_count": 56,
   "id": "334d171d",
   "metadata": {},
   "outputs": [
    {
     "name": "stdout",
     "output_type": "stream",
     "text": [
      ".. _iris_dataset:\n",
      "\n",
      "Iris plants dataset\n",
      "--------------------\n",
      "\n",
      "**Data Set Characteristics:**\n",
      "\n",
      "    :Number of Instances: 150 (50 in each of three classes)\n",
      "    :Number of Attributes: 4 numeric, predictive attributes and the class\n",
      "    :Attribute Information:\n",
      "        - sepal length in cm\n",
      "        - sepal width in cm\n",
      "        - petal length in cm\n",
      "        - petal width in cm\n",
      "        - class:\n",
      "                - Iris-Setosa\n",
      "                - Iris-Versicolour\n",
      "                - Iris-Virginica\n",
      "                \n",
      "    :Summary Statistics:\n",
      "\n",
      "    ============== ==== ==== ======= ===== ====================\n",
      "                    Min  Max   Mean    SD   Class Correlation\n",
      "    ============== ==== ==== ======= ===== ====================\n",
      "    sepal length:   4.3  7.9   5.84   0.83    0.7826\n",
      "    sepal width:    2.0  4.4   3.05   0.43   -0.4194\n",
      "    petal length:   1.0  6.9   3.76   1.76    0.9490  (high!)\n",
      "    petal width:    0.1  2.5   1.20   0.76    0.9565  (high!)\n",
      "    ============== ==== ==== ======= ===== ====================\n",
      "\n",
      "    :Missing Attribute Values: None\n",
      "    :Class Distribution: 33.3% for each of 3 classes.\n",
      "    :Creator: R.A. Fisher\n",
      "    :Donor: Michael Marshall (MARSHALL%PLU@io.arc.nasa.gov)\n",
      "    :Date: July, 1988\n",
      "\n",
      "The famous Iris database, first used by Sir R.A. Fisher. The dataset is taken\n",
      "from Fisher's paper. Note that it's the same as in R, but not as in the UCI\n",
      "Machine Learning Repository, which has two wrong data points.\n",
      "\n",
      "This is perhaps the best known database to be found in the\n",
      "pattern recognition literature.  Fisher's paper is a classic in the field and\n",
      "is referenced frequently to this day.  (See Duda & Hart, for example.)  The\n",
      "data set contains 3 classes of 50 instances each, where each class refers to a\n",
      "type of iris plant.  One class is linearly separable from the other 2; the\n",
      "latter are NOT linearly separable from each other.\n",
      "\n",
      ".. topic:: References\n",
      "\n",
      "   - Fisher, R.A. \"The use of multiple measurements in taxonomic problems\"\n",
      "     Annual Eugenics, 7, Part II, 179-188 (1936); also in \"Contributions to\n",
      "     Mathematical Statistics\" (John Wiley, NY, 1950).\n",
      "   - Duda, R.O., & Hart, P.E. (1973) Pattern Classification and Scene Analysis.\n",
      "     (Q327.D83) John Wiley & Sons.  ISBN 0-471-22361-1.  See page 218.\n",
      "   - Dasarathy, B.V. (1980) \"Nosing Around the Neighborhood: A New System\n",
      "     Structure and Classification Rule for Recognition in Partially Exposed\n",
      "     Environments\".  IEEE Transactions on Pattern Analysis and Machine\n",
      "     Intelligence, Vol. PAMI-2, No. 1, 67-71.\n",
      "   - Gates, G.W. (1972) \"The Reduced Nearest Neighbor Rule\".  IEEE Transactions\n",
      "     on Information Theory, May 1972, 431-433.\n",
      "   - See also: 1988 MLC Proceedings, 54-64.  Cheeseman et al\"s AUTOCLASS II\n",
      "     conceptual clustering system finds 3 classes in the data.\n",
      "   - Many, many more ...\n"
     ]
    }
   ],
   "source": [
    "print(iris.DESCR)"
   ]
  },
  {
   "cell_type": "code",
   "execution_count": 57,
   "id": "8819e2da",
   "metadata": {},
   "outputs": [],
   "source": [
    "X=iris.data"
   ]
  },
  {
   "cell_type": "code",
   "execution_count": 59,
   "id": "0c3111b8",
   "metadata": {},
   "outputs": [],
   "source": [
    "Y=iris.target"
   ]
  },
  {
   "cell_type": "code",
   "execution_count": 61,
   "id": "04dde8e6",
   "metadata": {
    "scrolled": false
   },
   "outputs": [],
   "source": [
    "from keras.utils import to_categorical"
   ]
  },
  {
   "cell_type": "code",
   "execution_count": 62,
   "id": "ec5c029e",
   "metadata": {},
   "outputs": [],
   "source": [
    "Y=to_categorical(Y)"
   ]
  },
  {
   "cell_type": "code",
   "execution_count": 66,
   "id": "c39fdc97",
   "metadata": {},
   "outputs": [],
   "source": [
    "from sklearn.model_selection import train_test_split"
   ]
  },
  {
   "cell_type": "code",
   "execution_count": 67,
   "id": "0568db91",
   "metadata": {},
   "outputs": [],
   "source": [
    "X_train,X_test,y_train,y_test=train_test_split(X,Y,test_size=0.33,random_state=42)"
   ]
  },
  {
   "cell_type": "code",
   "execution_count": null,
   "id": "e0dc7b31",
   "metadata": {},
   "outputs": [],
   "source": []
  },
  {
   "cell_type": "code",
   "execution_count": 64,
   "id": "7f64f017",
   "metadata": {},
   "outputs": [],
   "source": [
    "from sklearn.preprocessing import MinMaxScaler"
   ]
  },
  {
   "cell_type": "code",
   "execution_count": 65,
   "id": "7819a0a1",
   "metadata": {},
   "outputs": [],
   "source": [
    "scaler_obj=MinMaxScaler()"
   ]
  },
  {
   "cell_type": "code",
   "execution_count": 68,
   "id": "48d14eba",
   "metadata": {},
   "outputs": [
    {
     "data": {
      "text/plain": [
       "MinMaxScaler(copy=True, feature_range=(0, 1))"
      ]
     },
     "execution_count": 68,
     "metadata": {},
     "output_type": "execute_result"
    }
   ],
   "source": [
    "scaler_obj.fit(X_train)"
   ]
  },
  {
   "cell_type": "code",
   "execution_count": 70,
   "id": "c6b2432b",
   "metadata": {},
   "outputs": [],
   "source": [
    "scaled_X_train=scaler_obj.transform(X_train)\n",
    "scaled_X_test=scaler_obj.transform(X_test)"
   ]
  },
  {
   "cell_type": "code",
   "execution_count": 72,
   "id": "e33f549f",
   "metadata": {},
   "outputs": [],
   "source": [
    "from keras.models import Sequential\n",
    "from keras.layers import Dense"
   ]
  },
  {
   "cell_type": "code",
   "execution_count": 85,
   "id": "c5aeef14",
   "metadata": {},
   "outputs": [],
   "source": [
    "model=Sequential()\n",
    "model.add(Dense(10,input_dim=4,activation=\"relu\"))\n",
    "model.add(Dense(8,activation=\"relu\"))\n",
    "model.add(Dense(3,activation=\"softmax\"))\n",
    "model.compile(optimizer=\"adam\",loss=\"categorical_crossentropy\",metrics=['accuracy'])"
   ]
  },
  {
   "cell_type": "code",
   "execution_count": 86,
   "id": "789e6f8a",
   "metadata": {},
   "outputs": [
    {
     "name": "stdout",
     "output_type": "stream",
     "text": [
      "Model: \"sequential_6\"\n",
      "_________________________________________________________________\n",
      "Layer (type)                 Output Shape              Param #   \n",
      "=================================================================\n",
      "dense_13 (Dense)             (None, 10)                50        \n",
      "_________________________________________________________________\n",
      "dense_14 (Dense)             (None, 8)                 88        \n",
      "_________________________________________________________________\n",
      "dense_15 (Dense)             (None, 3)                 27        \n",
      "=================================================================\n",
      "Total params: 165\n",
      "Trainable params: 165\n",
      "Non-trainable params: 0\n",
      "_________________________________________________________________\n"
     ]
    }
   ],
   "source": [
    "model.summary()"
   ]
  },
  {
   "cell_type": "code",
   "execution_count": 87,
   "id": "98b03151",
   "metadata": {},
   "outputs": [
    {
     "name": "stdout",
     "output_type": "stream",
     "text": [
      "Epoch 1/150\n",
      " - 4s - loss: 1.0764 - accuracy: 0.3400\n",
      "Epoch 2/150\n",
      " - 0s - loss: 1.0685 - accuracy: 0.3400\n",
      "Epoch 3/150\n",
      " - 0s - loss: 1.0616 - accuracy: 0.3400\n",
      "Epoch 4/150\n",
      " - 0s - loss: 1.0555 - accuracy: 0.3400\n",
      "Epoch 5/150\n",
      " - 0s - loss: 1.0491 - accuracy: 0.3500\n",
      "Epoch 6/150\n",
      " - 0s - loss: 1.0433 - accuracy: 0.3500\n",
      "Epoch 7/150\n",
      " - 0s - loss: 1.0376 - accuracy: 0.3900\n",
      "Epoch 8/150\n",
      " - 0s - loss: 1.0327 - accuracy: 0.5400\n",
      "Epoch 9/150\n",
      " - 0s - loss: 1.0277 - accuracy: 0.5700\n",
      "Epoch 10/150\n",
      " - 0s - loss: 1.0228 - accuracy: 0.6100\n",
      "Epoch 11/150\n",
      " - 0s - loss: 1.0174 - accuracy: 0.6200\n",
      "Epoch 12/150\n",
      " - 0s - loss: 1.0119 - accuracy: 0.6200\n",
      "Epoch 13/150\n",
      " - 0s - loss: 1.0061 - accuracy: 0.6200\n",
      "Epoch 14/150\n",
      " - 0s - loss: 0.9998 - accuracy: 0.6400\n",
      "Epoch 15/150\n",
      " - 0s - loss: 0.9930 - accuracy: 0.6500\n",
      "Epoch 16/150\n",
      " - 0s - loss: 0.9855 - accuracy: 0.6500\n",
      "Epoch 17/150\n",
      " - 0s - loss: 0.9778 - accuracy: 0.6500\n",
      "Epoch 18/150\n",
      " - 0s - loss: 0.9698 - accuracy: 0.6500\n",
      "Epoch 19/150\n",
      " - 0s - loss: 0.9611 - accuracy: 0.6500\n",
      "Epoch 20/150\n",
      " - 0s - loss: 0.9523 - accuracy: 0.6500\n",
      "Epoch 21/150\n",
      " - 0s - loss: 0.9426 - accuracy: 0.6500\n",
      "Epoch 22/150\n",
      " - 0s - loss: 0.9326 - accuracy: 0.6500\n",
      "Epoch 23/150\n",
      " - 0s - loss: 0.9240 - accuracy: 0.6500\n",
      "Epoch 24/150\n",
      " - 0s - loss: 0.9143 - accuracy: 0.6500\n",
      "Epoch 25/150\n",
      " - 0s - loss: 0.9045 - accuracy: 0.6500\n",
      "Epoch 26/150\n",
      " - 0s - loss: 0.8949 - accuracy: 0.6500\n",
      "Epoch 27/150\n",
      " - 0s - loss: 0.8848 - accuracy: 0.6500\n",
      "Epoch 28/150\n",
      " - 0s - loss: 0.8748 - accuracy: 0.6500\n",
      "Epoch 29/150\n",
      " - 0s - loss: 0.8650 - accuracy: 0.6500\n",
      "Epoch 30/150\n",
      " - 0s - loss: 0.8547 - accuracy: 0.6500\n",
      "Epoch 31/150\n",
      " - 0s - loss: 0.8443 - accuracy: 0.6500\n",
      "Epoch 32/150\n",
      " - 0s - loss: 0.8343 - accuracy: 0.6500\n",
      "Epoch 33/150\n",
      " - 0s - loss: 0.8242 - accuracy: 0.6500\n",
      "Epoch 34/150\n",
      " - 0s - loss: 0.8137 - accuracy: 0.6500\n",
      "Epoch 35/150\n",
      " - 0s - loss: 0.8039 - accuracy: 0.6500\n",
      "Epoch 36/150\n",
      " - 0s - loss: 0.7928 - accuracy: 0.6500\n",
      "Epoch 37/150\n",
      " - 0s - loss: 0.7828 - accuracy: 0.6500\n",
      "Epoch 38/150\n",
      " - 0s - loss: 0.7724 - accuracy: 0.6500\n",
      "Epoch 39/150\n",
      " - 0s - loss: 0.7626 - accuracy: 0.6500\n",
      "Epoch 40/150\n",
      " - 0s - loss: 0.7527 - accuracy: 0.6500\n",
      "Epoch 41/150\n",
      " - 0s - loss: 0.7431 - accuracy: 0.6500\n",
      "Epoch 42/150\n",
      " - 0s - loss: 0.7333 - accuracy: 0.6500\n",
      "Epoch 43/150\n",
      " - 0s - loss: 0.7237 - accuracy: 0.6500\n",
      "Epoch 44/150\n",
      " - 0s - loss: 0.7144 - accuracy: 0.6500\n",
      "Epoch 45/150\n",
      " - 0s - loss: 0.7054 - accuracy: 0.6500\n",
      "Epoch 46/150\n",
      " - 0s - loss: 0.6964 - accuracy: 0.6500\n",
      "Epoch 47/150\n",
      " - 0s - loss: 0.6876 - accuracy: 0.6500\n",
      "Epoch 48/150\n",
      " - 0s - loss: 0.6790 - accuracy: 0.6500\n",
      "Epoch 49/150\n",
      " - 0s - loss: 0.6708 - accuracy: 0.6500\n",
      "Epoch 50/150\n",
      " - 0s - loss: 0.6625 - accuracy: 0.6500\n",
      "Epoch 51/150\n",
      " - 0s - loss: 0.6546 - accuracy: 0.6500\n",
      "Epoch 52/150\n",
      " - 0s - loss: 0.6470 - accuracy: 0.6500\n",
      "Epoch 53/150\n",
      " - 0s - loss: 0.6392 - accuracy: 0.6500\n",
      "Epoch 54/150\n",
      " - 0s - loss: 0.6319 - accuracy: 0.6500\n",
      "Epoch 55/150\n",
      " - 0s - loss: 0.6249 - accuracy: 0.6500\n",
      "Epoch 56/150\n",
      " - 0s - loss: 0.6177 - accuracy: 0.6500\n",
      "Epoch 57/150\n",
      " - 0s - loss: 0.6110 - accuracy: 0.6500\n",
      "Epoch 58/150\n",
      " - 0s - loss: 0.6044 - accuracy: 0.6500\n",
      "Epoch 59/150\n",
      " - 0s - loss: 0.5982 - accuracy: 0.6500\n",
      "Epoch 60/150\n",
      " - 0s - loss: 0.5920 - accuracy: 0.6500\n",
      "Epoch 61/150\n",
      " - 0s - loss: 0.5860 - accuracy: 0.6500\n",
      "Epoch 62/150\n",
      " - 0s - loss: 0.5806 - accuracy: 0.6500\n",
      "Epoch 63/150\n",
      " - 0s - loss: 0.5749 - accuracy: 0.6500\n",
      "Epoch 64/150\n",
      " - 0s - loss: 0.5695 - accuracy: 0.6500\n",
      "Epoch 65/150\n",
      " - 0s - loss: 0.5640 - accuracy: 0.6500\n",
      "Epoch 66/150\n",
      " - 0s - loss: 0.5582 - accuracy: 0.6500\n",
      "Epoch 67/150\n",
      " - 0s - loss: 0.5529 - accuracy: 0.6500\n",
      "Epoch 68/150\n",
      " - 0s - loss: 0.5477 - accuracy: 0.6500\n",
      "Epoch 69/150\n",
      " - 0s - loss: 0.5424 - accuracy: 0.6600\n",
      "Epoch 70/150\n",
      " - 0s - loss: 0.5382 - accuracy: 0.6800\n",
      "Epoch 71/150\n",
      " - 0s - loss: 0.5345 - accuracy: 0.6900\n",
      "Epoch 72/150\n",
      " - 0s - loss: 0.5296 - accuracy: 0.6900\n",
      "Epoch 73/150\n",
      " - 0s - loss: 0.5252 - accuracy: 0.6900\n",
      "Epoch 74/150\n",
      " - 0s - loss: 0.5211 - accuracy: 0.6900\n",
      "Epoch 75/150\n",
      " - 0s - loss: 0.5165 - accuracy: 0.7000\n",
      "Epoch 76/150\n",
      " - 0s - loss: 0.5127 - accuracy: 0.7200\n",
      "Epoch 77/150\n",
      " - 0s - loss: 0.5089 - accuracy: 0.7300\n",
      "Epoch 78/150\n",
      " - 0s - loss: 0.5055 - accuracy: 0.7600\n",
      "Epoch 79/150\n",
      " - 0s - loss: 0.5016 - accuracy: 0.7700\n",
      "Epoch 80/150\n",
      " - 0s - loss: 0.4981 - accuracy: 0.8000\n",
      "Epoch 81/150\n",
      " - 0s - loss: 0.4938 - accuracy: 0.8000\n",
      "Epoch 82/150\n",
      " - 0s - loss: 0.4903 - accuracy: 0.7700\n",
      "Epoch 83/150\n",
      " - 0s - loss: 0.4865 - accuracy: 0.7600\n",
      "Epoch 84/150\n",
      " - 0s - loss: 0.4833 - accuracy: 0.7500\n",
      "Epoch 85/150\n",
      " - 0s - loss: 0.4799 - accuracy: 0.7600\n",
      "Epoch 86/150\n",
      " - 0s - loss: 0.4764 - accuracy: 0.7600\n",
      "Epoch 87/150\n",
      " - 0s - loss: 0.4726 - accuracy: 0.7700\n",
      "Epoch 88/150\n",
      " - 0s - loss: 0.4697 - accuracy: 0.8200\n",
      "Epoch 89/150\n",
      " - 0s - loss: 0.4667 - accuracy: 0.8600\n",
      "Epoch 90/150\n",
      " - 0s - loss: 0.4643 - accuracy: 0.8800\n",
      "Epoch 91/150\n",
      " - 0s - loss: 0.4609 - accuracy: 0.8800\n",
      "Epoch 92/150\n",
      " - 0s - loss: 0.4566 - accuracy: 0.8800\n",
      "Epoch 93/150\n",
      " - 0s - loss: 0.4538 - accuracy: 0.8200\n",
      "Epoch 94/150\n",
      " - 0s - loss: 0.4529 - accuracy: 0.7700\n",
      "Epoch 95/150\n",
      " - 0s - loss: 0.4505 - accuracy: 0.7700\n",
      "Epoch 96/150\n",
      " - 0s - loss: 0.4474 - accuracy: 0.7700\n",
      "Epoch 97/150\n",
      " - 0s - loss: 0.4444 - accuracy: 0.7700\n",
      "Epoch 98/150\n",
      " - 0s - loss: 0.4414 - accuracy: 0.7700\n",
      "Epoch 99/150\n",
      " - 0s - loss: 0.4382 - accuracy: 0.8200\n",
      "Epoch 100/150\n",
      " - 0s - loss: 0.4353 - accuracy: 0.8500\n",
      "Epoch 101/150\n",
      " - 0s - loss: 0.4326 - accuracy: 0.8600\n",
      "Epoch 102/150\n",
      " - 0s - loss: 0.4296 - accuracy: 0.8600\n",
      "Epoch 103/150\n",
      " - 0s - loss: 0.4272 - accuracy: 0.8600\n",
      "Epoch 104/150\n",
      " - 0s - loss: 0.4246 - accuracy: 0.8600\n",
      "Epoch 105/150\n",
      " - 0s - loss: 0.4220 - accuracy: 0.8800\n",
      "Epoch 106/150\n",
      " - 0s - loss: 0.4188 - accuracy: 0.8800\n",
      "Epoch 107/150\n",
      " - 0s - loss: 0.4161 - accuracy: 0.8800\n",
      "Epoch 108/150\n",
      " - 0s - loss: 0.4138 - accuracy: 0.8800\n",
      "Epoch 109/150\n",
      " - 0s - loss: 0.4116 - accuracy: 0.8800\n",
      "Epoch 110/150\n",
      " - 0s - loss: 0.4089 - accuracy: 0.8800\n",
      "Epoch 111/150\n",
      " - 0s - loss: 0.4063 - accuracy: 0.8800\n",
      "Epoch 112/150\n",
      " - 0s - loss: 0.4040 - accuracy: 0.8800\n",
      "Epoch 113/150\n",
      " - 0s - loss: 0.4016 - accuracy: 0.8800\n",
      "Epoch 114/150\n",
      " - 0s - loss: 0.3989 - accuracy: 0.8900\n",
      "Epoch 115/150\n",
      " - 0s - loss: 0.3971 - accuracy: 0.8800\n",
      "Epoch 116/150\n",
      " - 0s - loss: 0.3948 - accuracy: 0.8900\n",
      "Epoch 117/150\n",
      " - 0s - loss: 0.3921 - accuracy: 0.8900\n",
      "Epoch 118/150\n",
      " - 0s - loss: 0.3895 - accuracy: 0.8900\n",
      "Epoch 119/150\n",
      " - 0s - loss: 0.3874 - accuracy: 0.8900\n",
      "Epoch 120/150\n",
      " - 0s - loss: 0.3854 - accuracy: 0.8900\n",
      "Epoch 121/150\n",
      " - 0s - loss: 0.3831 - accuracy: 0.8900\n",
      "Epoch 122/150\n",
      " - 0s - loss: 0.3809 - accuracy: 0.8900\n",
      "Epoch 123/150\n",
      " - 0s - loss: 0.3770 - accuracy: 0.9000\n",
      "Epoch 124/150\n",
      " - 0s - loss: 0.3743 - accuracy: 0.9300\n",
      "Epoch 125/150\n",
      " - 0s - loss: 0.3715 - accuracy: 0.9400\n",
      "Epoch 126/150\n",
      " - 0s - loss: 0.3695 - accuracy: 0.9400\n",
      "Epoch 127/150\n",
      " - 0s - loss: 0.3673 - accuracy: 0.9500\n",
      "Epoch 128/150\n",
      " - 0s - loss: 0.3670 - accuracy: 0.9400\n",
      "Epoch 129/150\n",
      " - 0s - loss: 0.3653 - accuracy: 0.9400\n",
      "Epoch 130/150\n",
      " - 0s - loss: 0.3622 - accuracy: 0.9400\n",
      "Epoch 131/150\n",
      " - 0s - loss: 0.3580 - accuracy: 0.9500\n",
      "Epoch 132/150\n",
      " - 0s - loss: 0.3542 - accuracy: 0.9400\n",
      "Epoch 133/150\n",
      " - 0s - loss: 0.3515 - accuracy: 0.9400\n",
      "Epoch 134/150\n",
      " - 0s - loss: 0.3516 - accuracy: 0.9300\n",
      "Epoch 135/150\n",
      " - 0s - loss: 0.3488 - accuracy: 0.9300\n",
      "Epoch 136/150\n",
      " - 0s - loss: 0.3456 - accuracy: 0.9300\n",
      "Epoch 137/150\n",
      " - 0s - loss: 0.3430 - accuracy: 0.9400\n",
      "Epoch 138/150\n",
      " - 0s - loss: 0.3404 - accuracy: 0.9400\n",
      "Epoch 139/150\n",
      " - 0s - loss: 0.3377 - accuracy: 0.9400\n",
      "Epoch 140/150\n",
      " - 0s - loss: 0.3352 - accuracy: 0.9400\n",
      "Epoch 141/150\n",
      " - 0s - loss: 0.3330 - accuracy: 0.9400\n",
      "Epoch 142/150\n",
      " - 0s - loss: 0.3310 - accuracy: 0.9500\n",
      "Epoch 143/150\n",
      " - 0s - loss: 0.3287 - accuracy: 0.9500\n",
      "Epoch 144/150\n",
      " - 0s - loss: 0.3268 - accuracy: 0.9600\n",
      "Epoch 145/150\n",
      " - 0s - loss: 0.3240 - accuracy: 0.9500\n",
      "Epoch 146/150\n",
      " - 0s - loss: 0.3224 - accuracy: 0.9500\n",
      "Epoch 147/150\n",
      " - 0s - loss: 0.3205 - accuracy: 0.9500\n",
      "Epoch 148/150\n",
      " - 0s - loss: 0.3176 - accuracy: 0.9600\n",
      "Epoch 149/150\n",
      " - 0s - loss: 0.3165 - accuracy: 0.9500\n",
      "Epoch 150/150\n",
      " - 0s - loss: 0.3146 - accuracy: 0.9400\n"
     ]
    },
    {
     "data": {
      "text/plain": [
       "<keras.callbacks.callbacks.History at 0x7fa323849ed0>"
      ]
     },
     "execution_count": 87,
     "metadata": {},
     "output_type": "execute_result"
    }
   ],
   "source": [
    "model.fit(scaled_X_train,y_train,epochs=150,verbose=2)"
   ]
  },
  {
   "cell_type": "code",
   "execution_count": 93,
   "id": "c66288d7",
   "metadata": {},
   "outputs": [],
   "source": [
    "y_pred=model.predict_classes(scalled_x_test)"
   ]
  },
  {
   "cell_type": "code",
   "execution_count": 94,
   "id": "c4cd7d50",
   "metadata": {},
   "outputs": [],
   "source": [
    "from sklearn.metrics import confusion_matrix,classification_report,accuracy_score"
   ]
  },
  {
   "cell_type": "code",
   "execution_count": 95,
   "id": "9e0a98c1",
   "metadata": {},
   "outputs": [],
   "source": [
    "y=y_test.argmax(axis=1)"
   ]
  },
  {
   "cell_type": "code",
   "execution_count": 97,
   "id": "6a9253f4",
   "metadata": {},
   "outputs": [
    {
     "name": "stdout",
     "output_type": "stream",
     "text": [
      "accuracy 0.96 \n",
      "\n",
      "[[19  0  0]\n",
      " [ 0 13  2]\n",
      " [ 0  0 16]]\n",
      "              precision    recall  f1-score   support\n",
      "\n",
      "           0       1.00      1.00      1.00        19\n",
      "           1       1.00      0.87      0.93        15\n",
      "           2       0.89      1.00      0.94        16\n",
      "\n",
      "   micro avg       0.96      0.96      0.96        50\n",
      "   macro avg       0.96      0.96      0.96        50\n",
      "weighted avg       0.96      0.96      0.96        50\n",
      "\n"
     ]
    }
   ],
   "source": [
    "print(\"accuracy\",accuracy_score(y,y_pred),\"\\n\")\n",
    "print(confusion_matrix(y,y_pred))\n",
    "print(classification_report(y,y_pred))"
   ]
  },
  {
   "cell_type": "code",
   "execution_count": 98,
   "id": "62d0a887",
   "metadata": {},
   "outputs": [],
   "source": [
    "model.save('myfirstmodel.h5')"
   ]
  },
  {
   "cell_type": "code",
   "execution_count": 100,
   "id": "453cbf4a",
   "metadata": {},
   "outputs": [
    {
     "data": {
      "text/plain": [
       "array([1, 0, 2, 1, 2, 0, 1, 2, 2, 1, 2, 0, 0, 0, 0, 1, 2, 1, 1, 2, 0, 2,\n",
       "       0, 2, 2, 2, 2, 2, 0, 0, 0, 0, 1, 0, 0, 2, 1, 0, 0, 0, 2, 1, 1, 0,\n",
       "       0, 1, 2, 2, 1, 2])"
      ]
     },
     "execution_count": 100,
     "metadata": {},
     "output_type": "execute_result"
    }
   ],
   "source": [
    "from keras.models import load_model\n",
    "newmodel = load_model('myfirstmodel.h5')\n",
    "newmodel.predict_classes(scalled_x_test)"
   ]
  },
  {
   "cell_type": "code",
   "execution_count": null,
   "id": "234b8efd",
   "metadata": {},
   "outputs": [],
   "source": []
  }
 ],
 "metadata": {
  "kernelspec": {
   "display_name": "Python 3 (ipykernel)",
   "language": "python",
   "name": "python3"
  },
  "language_info": {
   "codemirror_mode": {
    "name": "ipython",
    "version": 3
   },
   "file_extension": ".py",
   "mimetype": "text/x-python",
   "name": "python",
   "nbconvert_exporter": "python",
   "pygments_lexer": "ipython3",
   "version": "3.7.13"
  }
 },
 "nbformat": 4,
 "nbformat_minor": 5
}
