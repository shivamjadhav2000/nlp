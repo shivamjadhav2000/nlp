{
 "cells": [
  {
   "cell_type": "code",
   "execution_count": 1,
   "id": "bbaa4d48",
   "metadata": {},
   "outputs": [
    {
     "name": "stdout",
     "output_type": "stream",
     "text": [
      "Writing file.txt\n"
     ]
    }
   ],
   "source": [
    "%%writefile file.txt\n",
    "apple banana orange\n",
    "tiger cheeta monkey horse"
   ]
  },
  {
   "cell_type": "code",
   "execution_count": 5,
   "id": "81e0f11e",
   "metadata": {},
   "outputs": [],
   "source": [
    "file=open('file.txt')\n",
    "file.read()\n",
    "file.close()"
   ]
  },
  {
   "cell_type": "code",
   "execution_count": 6,
   "id": "4014fbde",
   "metadata": {},
   "outputs": [
    {
     "name": "stdout",
     "output_type": "stream",
     "text": [
      "Collecting pypdf2\n",
      "\u001b[?25l  Downloading https://files.pythonhosted.org/packages/1a/09/7c598522e07057b28c7bd2afc1590d4b1cf5d4b18324143bc17119348d91/PyPDF2-1.27.9-py3-none-any.whl (71kB)\n",
      "\u001b[K    100% |████████████████████████████████| 71kB 913kB/s ta 0:00:01\n",
      "\u001b[?25hInstalling collected packages: pypdf2\n",
      "Successfully installed pypdf2-1.27.9\n",
      "Note: you may need to restart the kernel to use updated packages.\n"
     ]
    }
   ],
   "source": [
    "pip install pypdf2"
   ]
  },
  {
   "cell_type": "code",
   "execution_count": null,
   "id": "85e2ffef",
   "metadata": {},
   "outputs": [],
   "source": []
  }
 ],
 "metadata": {
  "kernelspec": {
   "display_name": "Python 3 (ipykernel)",
   "language": "python",
   "name": "python3"
  },
  "language_info": {
   "codemirror_mode": {
    "name": "ipython",
    "version": 3
   },
   "file_extension": ".py",
   "mimetype": "text/x-python",
   "name": "python",
   "nbconvert_exporter": "python",
   "pygments_lexer": "ipython3",
   "version": "3.7.13"
  }
 },
 "nbformat": 4,
 "nbformat_minor": 5
}
